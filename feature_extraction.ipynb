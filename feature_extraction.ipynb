{
  "nbformat": 4,
  "nbformat_minor": 0,
  "metadata": {
    "colab": {
      "provenance": []
    },
    "kernelspec": {
      "name": "python3",
      "display_name": "Python 3"
    },
    "language_info": {
      "name": "python"
    }
  },
  "cells": [
    {
      "cell_type": "markdown",
      "source": [
        "PITCH EXTRACTION"
      ],
      "metadata": {
        "id": "sxaWHNbZTp6T"
      }
    },
    {
      "cell_type": "code",
      "source": [
        "import pitch\n",
        "\n",
        "p = pitch.find_pitch('1001_IEO_ANG_HI.wav')\n",
        "\n",
        "print('pitch =', p)"
      ],
      "metadata": {
        "colab": {
          "base_uri": "https://localhost:8080/",
          "height": 407
        },
        "id": "WHvJEKeKEHHP",
        "outputId": "77923cc1-af12-464e-fbb4-959df2a2617c"
      },
      "execution_count": null,
      "outputs": [
        {
          "output_type": "error",
          "ename": "FileNotFoundError",
          "evalue": "ignored",
          "traceback": [
            "\u001b[0;31m---------------------------------------------------------------------------\u001b[0m",
            "\u001b[0;31mFileNotFoundError\u001b[0m                         Traceback (most recent call last)",
            "\u001b[0;32m<ipython-input-2-94f5cca6d35a>\u001b[0m in \u001b[0;36m<cell line: 3>\u001b[0;34m()\u001b[0m\n\u001b[1;32m      1\u001b[0m \u001b[0;32mimport\u001b[0m \u001b[0mpitch\u001b[0m\u001b[0;34m\u001b[0m\u001b[0;34m\u001b[0m\u001b[0m\n\u001b[1;32m      2\u001b[0m \u001b[0;34m\u001b[0m\u001b[0m\n\u001b[0;32m----> 3\u001b[0;31m \u001b[0mp\u001b[0m \u001b[0;34m=\u001b[0m \u001b[0mpitch\u001b[0m\u001b[0;34m.\u001b[0m\u001b[0mfind_pitch\u001b[0m\u001b[0;34m(\u001b[0m\u001b[0;34m'1001_IEO_ANG_HI.wav'\u001b[0m\u001b[0;34m)\u001b[0m\u001b[0;34m\u001b[0m\u001b[0;34m\u001b[0m\u001b[0m\n\u001b[0m\u001b[1;32m      4\u001b[0m \u001b[0;34m\u001b[0m\u001b[0m\n\u001b[1;32m      5\u001b[0m \u001b[0mprint\u001b[0m\u001b[0;34m(\u001b[0m\u001b[0;34m'pitch ='\u001b[0m\u001b[0;34m,\u001b[0m \u001b[0mp\u001b[0m\u001b[0;34m)\u001b[0m\u001b[0;34m\u001b[0m\u001b[0;34m\u001b[0m\u001b[0m\n",
            "\u001b[0;32m/usr/local/lib/python3.10/dist-packages/pitch/__init__.py\u001b[0m in \u001b[0;36mfind_pitch\u001b[0;34m(audiofile)\u001b[0m\n\u001b[1;32m      4\u001b[0m \u001b[0;34m\u001b[0m\u001b[0m\n\u001b[1;32m      5\u001b[0m \u001b[0;32mdef\u001b[0m \u001b[0mfind_pitch\u001b[0m\u001b[0;34m(\u001b[0m\u001b[0maudiofile\u001b[0m\u001b[0;34m)\u001b[0m\u001b[0;34m:\u001b[0m\u001b[0;34m\u001b[0m\u001b[0;34m\u001b[0m\u001b[0m\n\u001b[0;32m----> 6\u001b[0;31m     \u001b[0mfs\u001b[0m\u001b[0;34m,\u001b[0m\u001b[0mx\u001b[0m \u001b[0;34m=\u001b[0m \u001b[0mwav\u001b[0m\u001b[0;34m.\u001b[0m\u001b[0mread\u001b[0m\u001b[0;34m(\u001b[0m\u001b[0maudiofile\u001b[0m\u001b[0;34m)\u001b[0m\u001b[0;34m\u001b[0m\u001b[0;34m\u001b[0m\u001b[0m\n\u001b[0m\u001b[1;32m      7\u001b[0m     \u001b[0mms20\u001b[0m\u001b[0;34m=\u001b[0m\u001b[0mint\u001b[0m\u001b[0;34m(\u001b[0m\u001b[0;34m(\u001b[0m\u001b[0mfs\u001b[0m\u001b[0;34m/\u001b[0m\u001b[0;36m50\u001b[0m\u001b[0;34m)\u001b[0m\u001b[0;34m)\u001b[0m\u001b[0;34m\u001b[0m\u001b[0;34m\u001b[0m\u001b[0m\n\u001b[1;32m      8\u001b[0m     \u001b[0mms2\u001b[0m\u001b[0;34m=\u001b[0m\u001b[0mint\u001b[0m\u001b[0;34m(\u001b[0m\u001b[0mfs\u001b[0m\u001b[0;34m/\u001b[0m\u001b[0;36m500\u001b[0m\u001b[0;34m)\u001b[0m\u001b[0;34m\u001b[0m\u001b[0;34m\u001b[0m\u001b[0m\n",
            "\u001b[0;32m/usr/local/lib/python3.10/dist-packages/scipy/io/wavfile.py\u001b[0m in \u001b[0;36mread\u001b[0;34m(filename, mmap)\u001b[0m\n\u001b[1;32m    645\u001b[0m         \u001b[0mmmap\u001b[0m \u001b[0;34m=\u001b[0m \u001b[0;32mFalse\u001b[0m\u001b[0;34m\u001b[0m\u001b[0;34m\u001b[0m\u001b[0m\n\u001b[1;32m    646\u001b[0m     \u001b[0;32melse\u001b[0m\u001b[0;34m:\u001b[0m\u001b[0;34m\u001b[0m\u001b[0;34m\u001b[0m\u001b[0m\n\u001b[0;32m--> 647\u001b[0;31m         \u001b[0mfid\u001b[0m \u001b[0;34m=\u001b[0m \u001b[0mopen\u001b[0m\u001b[0;34m(\u001b[0m\u001b[0mfilename\u001b[0m\u001b[0;34m,\u001b[0m \u001b[0;34m'rb'\u001b[0m\u001b[0;34m)\u001b[0m\u001b[0;34m\u001b[0m\u001b[0;34m\u001b[0m\u001b[0m\n\u001b[0m\u001b[1;32m    648\u001b[0m \u001b[0;34m\u001b[0m\u001b[0m\n\u001b[1;32m    649\u001b[0m     \u001b[0;32mtry\u001b[0m\u001b[0;34m:\u001b[0m\u001b[0;34m\u001b[0m\u001b[0;34m\u001b[0m\u001b[0m\n",
            "\u001b[0;31mFileNotFoundError\u001b[0m: [Errno 2] No such file or directory: '1001_IEO_ANG_HI.wav'"
          ]
        }
      ]
    },
    {
      "cell_type": "markdown",
      "source": [
        "ENERGY EXTRACTION"
      ],
      "metadata": {
        "id": "Jya8RXwbVRPk"
      }
    },
    {
      "cell_type": "code",
      "source": [
        "import librosa as lb\n",
        "import numpy as np\n",
        "x, sr = lb.load('/content/1001_IEO_ANG_HI.wav')"
      ],
      "metadata": {
        "id": "Cyp8dcE6ZPeT",
        "colab": {
          "base_uri": "https://localhost:8080/",
          "height": 670
        },
        "outputId": "c3784901-805f-41ab-f641-7981faadd897"
      },
      "execution_count": null,
      "outputs": [
        {
          "output_type": "stream",
          "name": "stderr",
          "text": [
            "<ipython-input-4-c53234b3e138>:3: UserWarning: PySoundFile failed. Trying audioread instead.\n",
            "  x, sr = lb.load('/content/1001_IEO_ANG_HI.wav')\n",
            "/usr/local/lib/python3.10/dist-packages/librosa/core/audio.py:183: FutureWarning: librosa.core.audio.__audioread_load\n",
            "\tDeprecated as of librosa version 0.10.0.\n",
            "\tIt will be removed in librosa version 1.0.\n",
            "  y, sr_native = __audioread_load(path, offset, duration, dtype)\n"
          ]
        },
        {
          "output_type": "error",
          "ename": "FileNotFoundError",
          "evalue": "ignored",
          "traceback": [
            "\u001b[0;31m---------------------------------------------------------------------------\u001b[0m",
            "\u001b[0;31mLibsndfileError\u001b[0m                           Traceback (most recent call last)",
            "\u001b[0;32m/usr/local/lib/python3.10/dist-packages/librosa/core/audio.py\u001b[0m in \u001b[0;36mload\u001b[0;34m(path, sr, mono, offset, duration, dtype, res_type)\u001b[0m\n\u001b[1;32m    174\u001b[0m         \u001b[0;32mtry\u001b[0m\u001b[0;34m:\u001b[0m\u001b[0;34m\u001b[0m\u001b[0;34m\u001b[0m\u001b[0m\n\u001b[0;32m--> 175\u001b[0;31m             \u001b[0my\u001b[0m\u001b[0;34m,\u001b[0m \u001b[0msr_native\u001b[0m \u001b[0;34m=\u001b[0m \u001b[0m__soundfile_load\u001b[0m\u001b[0;34m(\u001b[0m\u001b[0mpath\u001b[0m\u001b[0;34m,\u001b[0m \u001b[0moffset\u001b[0m\u001b[0;34m,\u001b[0m \u001b[0mduration\u001b[0m\u001b[0;34m,\u001b[0m \u001b[0mdtype\u001b[0m\u001b[0;34m)\u001b[0m\u001b[0;34m\u001b[0m\u001b[0;34m\u001b[0m\u001b[0m\n\u001b[0m\u001b[1;32m    176\u001b[0m \u001b[0;34m\u001b[0m\u001b[0m\n",
            "\u001b[0;32m/usr/local/lib/python3.10/dist-packages/librosa/core/audio.py\u001b[0m in \u001b[0;36m__soundfile_load\u001b[0;34m(path, offset, duration, dtype)\u001b[0m\n\u001b[1;32m    207\u001b[0m         \u001b[0;31m# Otherwise, create the soundfile object\u001b[0m\u001b[0;34m\u001b[0m\u001b[0;34m\u001b[0m\u001b[0m\n\u001b[0;32m--> 208\u001b[0;31m         \u001b[0mcontext\u001b[0m \u001b[0;34m=\u001b[0m \u001b[0msf\u001b[0m\u001b[0;34m.\u001b[0m\u001b[0mSoundFile\u001b[0m\u001b[0;34m(\u001b[0m\u001b[0mpath\u001b[0m\u001b[0;34m)\u001b[0m\u001b[0;34m\u001b[0m\u001b[0;34m\u001b[0m\u001b[0m\n\u001b[0m\u001b[1;32m    209\u001b[0m \u001b[0;34m\u001b[0m\u001b[0m\n",
            "\u001b[0;32m/usr/local/lib/python3.10/dist-packages/soundfile.py\u001b[0m in \u001b[0;36m__init__\u001b[0;34m(self, file, mode, samplerate, channels, subtype, endian, format, closefd)\u001b[0m\n\u001b[1;32m    657\u001b[0m                                          format, subtype, endian)\n\u001b[0;32m--> 658\u001b[0;31m         \u001b[0mself\u001b[0m\u001b[0;34m.\u001b[0m\u001b[0m_file\u001b[0m \u001b[0;34m=\u001b[0m \u001b[0mself\u001b[0m\u001b[0;34m.\u001b[0m\u001b[0m_open\u001b[0m\u001b[0;34m(\u001b[0m\u001b[0mfile\u001b[0m\u001b[0;34m,\u001b[0m \u001b[0mmode_int\u001b[0m\u001b[0;34m,\u001b[0m \u001b[0mclosefd\u001b[0m\u001b[0;34m)\u001b[0m\u001b[0;34m\u001b[0m\u001b[0;34m\u001b[0m\u001b[0m\n\u001b[0m\u001b[1;32m    659\u001b[0m         \u001b[0;32mif\u001b[0m \u001b[0mset\u001b[0m\u001b[0;34m(\u001b[0m\u001b[0mmode\u001b[0m\u001b[0;34m)\u001b[0m\u001b[0;34m.\u001b[0m\u001b[0missuperset\u001b[0m\u001b[0;34m(\u001b[0m\u001b[0;34m'r+'\u001b[0m\u001b[0;34m)\u001b[0m \u001b[0;32mand\u001b[0m \u001b[0mself\u001b[0m\u001b[0;34m.\u001b[0m\u001b[0mseekable\u001b[0m\u001b[0;34m(\u001b[0m\u001b[0;34m)\u001b[0m\u001b[0;34m:\u001b[0m\u001b[0;34m\u001b[0m\u001b[0;34m\u001b[0m\u001b[0m\n",
            "\u001b[0;32m/usr/local/lib/python3.10/dist-packages/soundfile.py\u001b[0m in \u001b[0;36m_open\u001b[0;34m(self, file, mode_int, closefd)\u001b[0m\n\u001b[1;32m   1215\u001b[0m             \u001b[0merr\u001b[0m \u001b[0;34m=\u001b[0m \u001b[0m_snd\u001b[0m\u001b[0;34m.\u001b[0m\u001b[0msf_error\u001b[0m\u001b[0;34m(\u001b[0m\u001b[0mfile_ptr\u001b[0m\u001b[0;34m)\u001b[0m\u001b[0;34m\u001b[0m\u001b[0;34m\u001b[0m\u001b[0m\n\u001b[0;32m-> 1216\u001b[0;31m             \u001b[0;32mraise\u001b[0m \u001b[0mLibsndfileError\u001b[0m\u001b[0;34m(\u001b[0m\u001b[0merr\u001b[0m\u001b[0;34m,\u001b[0m \u001b[0mprefix\u001b[0m\u001b[0;34m=\u001b[0m\u001b[0;34m\"Error opening {0!r}: \"\u001b[0m\u001b[0;34m.\u001b[0m\u001b[0mformat\u001b[0m\u001b[0;34m(\u001b[0m\u001b[0mself\u001b[0m\u001b[0;34m.\u001b[0m\u001b[0mname\u001b[0m\u001b[0;34m)\u001b[0m\u001b[0;34m)\u001b[0m\u001b[0;34m\u001b[0m\u001b[0;34m\u001b[0m\u001b[0m\n\u001b[0m\u001b[1;32m   1217\u001b[0m         \u001b[0;32mif\u001b[0m \u001b[0mmode_int\u001b[0m \u001b[0;34m==\u001b[0m \u001b[0m_snd\u001b[0m\u001b[0;34m.\u001b[0m\u001b[0mSFM_WRITE\u001b[0m\u001b[0;34m:\u001b[0m\u001b[0;34m\u001b[0m\u001b[0;34m\u001b[0m\u001b[0m\n",
            "\u001b[0;31mLibsndfileError\u001b[0m: Error opening '/content/1001_IEO_ANG_HI.wav': System error.",
            "\nDuring handling of the above exception, another exception occurred:\n",
            "\u001b[0;31mFileNotFoundError\u001b[0m                         Traceback (most recent call last)",
            "\u001b[0;32m<ipython-input-4-c53234b3e138>\u001b[0m in \u001b[0;36m<cell line: 3>\u001b[0;34m()\u001b[0m\n\u001b[1;32m      1\u001b[0m \u001b[0;32mimport\u001b[0m \u001b[0mlibrosa\u001b[0m \u001b[0;32mas\u001b[0m \u001b[0mlb\u001b[0m\u001b[0;34m\u001b[0m\u001b[0;34m\u001b[0m\u001b[0m\n\u001b[1;32m      2\u001b[0m \u001b[0;32mimport\u001b[0m \u001b[0mnumpy\u001b[0m \u001b[0;32mas\u001b[0m \u001b[0mnp\u001b[0m\u001b[0;34m\u001b[0m\u001b[0;34m\u001b[0m\u001b[0m\n\u001b[0;32m----> 3\u001b[0;31m \u001b[0mx\u001b[0m\u001b[0;34m,\u001b[0m \u001b[0msr\u001b[0m \u001b[0;34m=\u001b[0m \u001b[0mlb\u001b[0m\u001b[0;34m.\u001b[0m\u001b[0mload\u001b[0m\u001b[0;34m(\u001b[0m\u001b[0;34m'/content/1001_IEO_ANG_HI.wav'\u001b[0m\u001b[0;34m)\u001b[0m\u001b[0;34m\u001b[0m\u001b[0;34m\u001b[0m\u001b[0m\n\u001b[0m",
            "\u001b[0;32m/usr/local/lib/python3.10/dist-packages/librosa/core/audio.py\u001b[0m in \u001b[0;36mload\u001b[0;34m(path, sr, mono, offset, duration, dtype, res_type)\u001b[0m\n\u001b[1;32m    181\u001b[0m                     \u001b[0;34m\"PySoundFile failed. Trying audioread instead.\"\u001b[0m\u001b[0;34m,\u001b[0m \u001b[0mstacklevel\u001b[0m\u001b[0;34m=\u001b[0m\u001b[0;36m2\u001b[0m\u001b[0;34m\u001b[0m\u001b[0;34m\u001b[0m\u001b[0m\n\u001b[1;32m    182\u001b[0m                 )\n\u001b[0;32m--> 183\u001b[0;31m                 \u001b[0my\u001b[0m\u001b[0;34m,\u001b[0m \u001b[0msr_native\u001b[0m \u001b[0;34m=\u001b[0m \u001b[0m__audioread_load\u001b[0m\u001b[0;34m(\u001b[0m\u001b[0mpath\u001b[0m\u001b[0;34m,\u001b[0m \u001b[0moffset\u001b[0m\u001b[0;34m,\u001b[0m \u001b[0mduration\u001b[0m\u001b[0;34m,\u001b[0m \u001b[0mdtype\u001b[0m\u001b[0;34m)\u001b[0m\u001b[0;34m\u001b[0m\u001b[0;34m\u001b[0m\u001b[0m\n\u001b[0m\u001b[1;32m    184\u001b[0m             \u001b[0;32melse\u001b[0m\u001b[0;34m:\u001b[0m\u001b[0;34m\u001b[0m\u001b[0;34m\u001b[0m\u001b[0m\n\u001b[1;32m    185\u001b[0m                 \u001b[0;32mraise\u001b[0m \u001b[0mexc\u001b[0m\u001b[0;34m\u001b[0m\u001b[0;34m\u001b[0m\u001b[0m\n",
            "\u001b[0;32m<decorator-gen-119>\u001b[0m in \u001b[0;36m__audioread_load\u001b[0;34m(path, offset, duration, dtype)\u001b[0m\n",
            "\u001b[0;32m/usr/local/lib/python3.10/dist-packages/librosa/util/decorators.py\u001b[0m in \u001b[0;36m__wrapper\u001b[0;34m(func, *args, **kwargs)\u001b[0m\n\u001b[1;32m     57\u001b[0m             \u001b[0mstacklevel\u001b[0m\u001b[0;34m=\u001b[0m\u001b[0;36m3\u001b[0m\u001b[0;34m,\u001b[0m  \u001b[0;31m# Would be 2, but the decorator adds a level\u001b[0m\u001b[0;34m\u001b[0m\u001b[0;34m\u001b[0m\u001b[0m\n\u001b[1;32m     58\u001b[0m         )\n\u001b[0;32m---> 59\u001b[0;31m         \u001b[0;32mreturn\u001b[0m \u001b[0mfunc\u001b[0m\u001b[0;34m(\u001b[0m\u001b[0;34m*\u001b[0m\u001b[0margs\u001b[0m\u001b[0;34m,\u001b[0m \u001b[0;34m**\u001b[0m\u001b[0mkwargs\u001b[0m\u001b[0;34m)\u001b[0m\u001b[0;34m\u001b[0m\u001b[0;34m\u001b[0m\u001b[0m\n\u001b[0m\u001b[1;32m     60\u001b[0m \u001b[0;34m\u001b[0m\u001b[0m\n\u001b[1;32m     61\u001b[0m     \u001b[0;32mreturn\u001b[0m \u001b[0mdecorator\u001b[0m\u001b[0;34m(\u001b[0m\u001b[0m__wrapper\u001b[0m\u001b[0;34m)\u001b[0m\u001b[0;34m\u001b[0m\u001b[0;34m\u001b[0m\u001b[0m\n",
            "\u001b[0;32m/usr/local/lib/python3.10/dist-packages/librosa/core/audio.py\u001b[0m in \u001b[0;36m__audioread_load\u001b[0;34m(path, offset, duration, dtype)\u001b[0m\n\u001b[1;32m    237\u001b[0m     \u001b[0;32melse\u001b[0m\u001b[0;34m:\u001b[0m\u001b[0;34m\u001b[0m\u001b[0;34m\u001b[0m\u001b[0m\n\u001b[1;32m    238\u001b[0m         \u001b[0;31m# If the input was not an audioread object, try to open it\u001b[0m\u001b[0;34m\u001b[0m\u001b[0;34m\u001b[0m\u001b[0m\n\u001b[0;32m--> 239\u001b[0;31m         \u001b[0mreader\u001b[0m \u001b[0;34m=\u001b[0m \u001b[0maudioread\u001b[0m\u001b[0;34m.\u001b[0m\u001b[0maudio_open\u001b[0m\u001b[0;34m(\u001b[0m\u001b[0mpath\u001b[0m\u001b[0;34m)\u001b[0m\u001b[0;34m\u001b[0m\u001b[0;34m\u001b[0m\u001b[0m\n\u001b[0m\u001b[1;32m    240\u001b[0m \u001b[0;34m\u001b[0m\u001b[0m\n\u001b[1;32m    241\u001b[0m     \u001b[0;32mwith\u001b[0m \u001b[0mreader\u001b[0m \u001b[0;32mas\u001b[0m \u001b[0minput_file\u001b[0m\u001b[0;34m:\u001b[0m\u001b[0;34m\u001b[0m\u001b[0;34m\u001b[0m\u001b[0m\n",
            "\u001b[0;32m/usr/local/lib/python3.10/dist-packages/audioread/__init__.py\u001b[0m in \u001b[0;36maudio_open\u001b[0;34m(path, backends)\u001b[0m\n\u001b[1;32m    125\u001b[0m     \u001b[0;32mfor\u001b[0m \u001b[0mBackendClass\u001b[0m \u001b[0;32min\u001b[0m \u001b[0mbackends\u001b[0m\u001b[0;34m:\u001b[0m\u001b[0;34m\u001b[0m\u001b[0;34m\u001b[0m\u001b[0m\n\u001b[1;32m    126\u001b[0m         \u001b[0;32mtry\u001b[0m\u001b[0;34m:\u001b[0m\u001b[0;34m\u001b[0m\u001b[0;34m\u001b[0m\u001b[0m\n\u001b[0;32m--> 127\u001b[0;31m             \u001b[0;32mreturn\u001b[0m \u001b[0mBackendClass\u001b[0m\u001b[0;34m(\u001b[0m\u001b[0mpath\u001b[0m\u001b[0;34m)\u001b[0m\u001b[0;34m\u001b[0m\u001b[0;34m\u001b[0m\u001b[0m\n\u001b[0m\u001b[1;32m    128\u001b[0m         \u001b[0;32mexcept\u001b[0m \u001b[0mDecodeError\u001b[0m\u001b[0;34m:\u001b[0m\u001b[0;34m\u001b[0m\u001b[0;34m\u001b[0m\u001b[0m\n\u001b[1;32m    129\u001b[0m             \u001b[0;32mpass\u001b[0m\u001b[0;34m\u001b[0m\u001b[0;34m\u001b[0m\u001b[0m\n",
            "\u001b[0;32m/usr/local/lib/python3.10/dist-packages/audioread/rawread.py\u001b[0m in \u001b[0;36m__init__\u001b[0;34m(self, filename)\u001b[0m\n\u001b[1;32m     57\u001b[0m     \"\"\"\n\u001b[1;32m     58\u001b[0m     \u001b[0;32mdef\u001b[0m \u001b[0m__init__\u001b[0m\u001b[0;34m(\u001b[0m\u001b[0mself\u001b[0m\u001b[0;34m,\u001b[0m \u001b[0mfilename\u001b[0m\u001b[0;34m)\u001b[0m\u001b[0;34m:\u001b[0m\u001b[0;34m\u001b[0m\u001b[0;34m\u001b[0m\u001b[0m\n\u001b[0;32m---> 59\u001b[0;31m         \u001b[0mself\u001b[0m\u001b[0;34m.\u001b[0m\u001b[0m_fh\u001b[0m \u001b[0;34m=\u001b[0m \u001b[0mopen\u001b[0m\u001b[0;34m(\u001b[0m\u001b[0mfilename\u001b[0m\u001b[0;34m,\u001b[0m \u001b[0;34m'rb'\u001b[0m\u001b[0;34m)\u001b[0m\u001b[0;34m\u001b[0m\u001b[0;34m\u001b[0m\u001b[0m\n\u001b[0m\u001b[1;32m     60\u001b[0m \u001b[0;34m\u001b[0m\u001b[0m\n\u001b[1;32m     61\u001b[0m         \u001b[0;32mtry\u001b[0m\u001b[0;34m:\u001b[0m\u001b[0;34m\u001b[0m\u001b[0;34m\u001b[0m\u001b[0m\n",
            "\u001b[0;31mFileNotFoundError\u001b[0m: [Errno 2] No such file or directory: '/content/1001_IEO_ANG_HI.wav'"
          ]
        }
      ]
    },
    {
      "cell_type": "code",
      "source": [
        "def rmse(x):\n",
        "    return np.sum(x**2)"
      ],
      "metadata": {
        "id": "yxbWCALaZMfV"
      },
      "execution_count": null,
      "outputs": []
    },
    {
      "cell_type": "code",
      "source": [
        "rmse(x)"
      ],
      "metadata": {
        "colab": {
          "base_uri": "https://localhost:8080/",
          "height": 175
        },
        "id": "laUxQX6tq6tc",
        "outputId": "d576c31b-11eb-4c69-ce34-6e4ba4403b96"
      },
      "execution_count": null,
      "outputs": [
        {
          "output_type": "error",
          "ename": "NameError",
          "evalue": "ignored",
          "traceback": [
            "\u001b[0;31m---------------------------------------------------------------------------\u001b[0m",
            "\u001b[0;31mNameError\u001b[0m                                 Traceback (most recent call last)",
            "\u001b[0;32m<ipython-input-5-7f886a772f09>\u001b[0m in \u001b[0;36m<cell line: 1>\u001b[0;34m()\u001b[0m\n\u001b[0;32m----> 1\u001b[0;31m \u001b[0mrmse\u001b[0m\u001b[0;34m(\u001b[0m\u001b[0mx\u001b[0m\u001b[0;34m)\u001b[0m\u001b[0;34m\u001b[0m\u001b[0;34m\u001b[0m\u001b[0m\n\u001b[0m",
            "\u001b[0;31mNameError\u001b[0m: name 'x' is not defined"
          ]
        }
      ]
    },
    {
      "cell_type": "markdown",
      "source": [
        "FORMANTS EXTRACTION"
      ],
      "metadata": {
        "id": "u3JA2MbYYuWs"
      }
    },
    {
      "cell_type": "markdown",
      "source": [
        "JITTER AND SHIMMER"
      ],
      "metadata": {
        "id": "8izRKjG7d98c"
      }
    },
    {
      "cell_type": "code",
      "source": [
        "#Uploading human.wav audio  file from local storage\n",
        "uploaded = files.upload()\n",
        "for fn in uploaded.keys():\n",
        "  print('User uploaded file \"{name}\" with length {length} bytes'.format(\n",
        "      name=fn, length=len(uploaded[fn])))"
      ],
      "metadata": {
        "colab": {
          "base_uri": "https://localhost:8080/",
          "height": 429
        },
        "id": "qePxGZDsmHUU",
        "outputId": "54ddf74b-0bb7-4116-dd03-5954678bd533"
      },
      "execution_count": null,
      "outputs": [
        {
          "output_type": "display_data",
          "data": {
            "text/plain": [
              "<IPython.core.display.HTML object>"
            ],
            "text/html": [
              "\n",
              "     <input type=\"file\" id=\"files-4134c637-3e75-4b74-bad9-0992f09ef298\" name=\"files[]\" multiple disabled\n",
              "        style=\"border:none\" />\n",
              "     <output id=\"result-4134c637-3e75-4b74-bad9-0992f09ef298\">\n",
              "      Upload widget is only available when the cell has been executed in the\n",
              "      current browser session. Please rerun this cell to enable.\n",
              "      </output>\n",
              "      <script>// Copyright 2017 Google LLC\n",
              "//\n",
              "// Licensed under the Apache License, Version 2.0 (the \"License\");\n",
              "// you may not use this file except in compliance with the License.\n",
              "// You may obtain a copy of the License at\n",
              "//\n",
              "//      http://www.apache.org/licenses/LICENSE-2.0\n",
              "//\n",
              "// Unless required by applicable law or agreed to in writing, software\n",
              "// distributed under the License is distributed on an \"AS IS\" BASIS,\n",
              "// WITHOUT WARRANTIES OR CONDITIONS OF ANY KIND, either express or implied.\n",
              "// See the License for the specific language governing permissions and\n",
              "// limitations under the License.\n",
              "\n",
              "/**\n",
              " * @fileoverview Helpers for google.colab Python module.\n",
              " */\n",
              "(function(scope) {\n",
              "function span(text, styleAttributes = {}) {\n",
              "  const element = document.createElement('span');\n",
              "  element.textContent = text;\n",
              "  for (const key of Object.keys(styleAttributes)) {\n",
              "    element.style[key] = styleAttributes[key];\n",
              "  }\n",
              "  return element;\n",
              "}\n",
              "\n",
              "// Max number of bytes which will be uploaded at a time.\n",
              "const MAX_PAYLOAD_SIZE = 100 * 1024;\n",
              "\n",
              "function _uploadFiles(inputId, outputId) {\n",
              "  const steps = uploadFilesStep(inputId, outputId);\n",
              "  const outputElement = document.getElementById(outputId);\n",
              "  // Cache steps on the outputElement to make it available for the next call\n",
              "  // to uploadFilesContinue from Python.\n",
              "  outputElement.steps = steps;\n",
              "\n",
              "  return _uploadFilesContinue(outputId);\n",
              "}\n",
              "\n",
              "// This is roughly an async generator (not supported in the browser yet),\n",
              "// where there are multiple asynchronous steps and the Python side is going\n",
              "// to poll for completion of each step.\n",
              "// This uses a Promise to block the python side on completion of each step,\n",
              "// then passes the result of the previous step as the input to the next step.\n",
              "function _uploadFilesContinue(outputId) {\n",
              "  const outputElement = document.getElementById(outputId);\n",
              "  const steps = outputElement.steps;\n",
              "\n",
              "  const next = steps.next(outputElement.lastPromiseValue);\n",
              "  return Promise.resolve(next.value.promise).then((value) => {\n",
              "    // Cache the last promise value to make it available to the next\n",
              "    // step of the generator.\n",
              "    outputElement.lastPromiseValue = value;\n",
              "    return next.value.response;\n",
              "  });\n",
              "}\n",
              "\n",
              "/**\n",
              " * Generator function which is called between each async step of the upload\n",
              " * process.\n",
              " * @param {string} inputId Element ID of the input file picker element.\n",
              " * @param {string} outputId Element ID of the output display.\n",
              " * @return {!Iterable<!Object>} Iterable of next steps.\n",
              " */\n",
              "function* uploadFilesStep(inputId, outputId) {\n",
              "  const inputElement = document.getElementById(inputId);\n",
              "  inputElement.disabled = false;\n",
              "\n",
              "  const outputElement = document.getElementById(outputId);\n",
              "  outputElement.innerHTML = '';\n",
              "\n",
              "  const pickedPromise = new Promise((resolve) => {\n",
              "    inputElement.addEventListener('change', (e) => {\n",
              "      resolve(e.target.files);\n",
              "    });\n",
              "  });\n",
              "\n",
              "  const cancel = document.createElement('button');\n",
              "  inputElement.parentElement.appendChild(cancel);\n",
              "  cancel.textContent = 'Cancel upload';\n",
              "  const cancelPromise = new Promise((resolve) => {\n",
              "    cancel.onclick = () => {\n",
              "      resolve(null);\n",
              "    };\n",
              "  });\n",
              "\n",
              "  // Wait for the user to pick the files.\n",
              "  const files = yield {\n",
              "    promise: Promise.race([pickedPromise, cancelPromise]),\n",
              "    response: {\n",
              "      action: 'starting',\n",
              "    }\n",
              "  };\n",
              "\n",
              "  cancel.remove();\n",
              "\n",
              "  // Disable the input element since further picks are not allowed.\n",
              "  inputElement.disabled = true;\n",
              "\n",
              "  if (!files) {\n",
              "    return {\n",
              "      response: {\n",
              "        action: 'complete',\n",
              "      }\n",
              "    };\n",
              "  }\n",
              "\n",
              "  for (const file of files) {\n",
              "    const li = document.createElement('li');\n",
              "    li.append(span(file.name, {fontWeight: 'bold'}));\n",
              "    li.append(span(\n",
              "        `(${file.type || 'n/a'}) - ${file.size} bytes, ` +\n",
              "        `last modified: ${\n",
              "            file.lastModifiedDate ? file.lastModifiedDate.toLocaleDateString() :\n",
              "                                    'n/a'} - `));\n",
              "    const percent = span('0% done');\n",
              "    li.appendChild(percent);\n",
              "\n",
              "    outputElement.appendChild(li);\n",
              "\n",
              "    const fileDataPromise = new Promise((resolve) => {\n",
              "      const reader = new FileReader();\n",
              "      reader.onload = (e) => {\n",
              "        resolve(e.target.result);\n",
              "      };\n",
              "      reader.readAsArrayBuffer(file);\n",
              "    });\n",
              "    // Wait for the data to be ready.\n",
              "    let fileData = yield {\n",
              "      promise: fileDataPromise,\n",
              "      response: {\n",
              "        action: 'continue',\n",
              "      }\n",
              "    };\n",
              "\n",
              "    // Use a chunked sending to avoid message size limits. See b/62115660.\n",
              "    let position = 0;\n",
              "    do {\n",
              "      const length = Math.min(fileData.byteLength - position, MAX_PAYLOAD_SIZE);\n",
              "      const chunk = new Uint8Array(fileData, position, length);\n",
              "      position += length;\n",
              "\n",
              "      const base64 = btoa(String.fromCharCode.apply(null, chunk));\n",
              "      yield {\n",
              "        response: {\n",
              "          action: 'append',\n",
              "          file: file.name,\n",
              "          data: base64,\n",
              "        },\n",
              "      };\n",
              "\n",
              "      let percentDone = fileData.byteLength === 0 ?\n",
              "          100 :\n",
              "          Math.round((position / fileData.byteLength) * 100);\n",
              "      percent.textContent = `${percentDone}% done`;\n",
              "\n",
              "    } while (position < fileData.byteLength);\n",
              "  }\n",
              "\n",
              "  // All done.\n",
              "  yield {\n",
              "    response: {\n",
              "      action: 'complete',\n",
              "    }\n",
              "  };\n",
              "}\n",
              "\n",
              "scope.google = scope.google || {};\n",
              "scope.google.colab = scope.google.colab || {};\n",
              "scope.google.colab._files = {\n",
              "  _uploadFiles,\n",
              "  _uploadFilesContinue,\n",
              "};\n",
              "})(self);\n",
              "</script> "
            ]
          },
          "metadata": {}
        },
        {
          "output_type": "error",
          "ename": "KeyboardInterrupt",
          "evalue": "ignored",
          "traceback": [
            "\u001b[0;31m---------------------------------------------------------------------------\u001b[0m",
            "\u001b[0;31mKeyboardInterrupt\u001b[0m                         Traceback (most recent call last)",
            "\u001b[0;32m<ipython-input-8-98b22d668f52>\u001b[0m in \u001b[0;36m<cell line: 2>\u001b[0;34m()\u001b[0m\n\u001b[1;32m      1\u001b[0m \u001b[0;31m#Uploading human.wav audio  file from local storage\u001b[0m\u001b[0;34m\u001b[0m\u001b[0;34m\u001b[0m\u001b[0m\n\u001b[0;32m----> 2\u001b[0;31m \u001b[0muploaded\u001b[0m \u001b[0;34m=\u001b[0m \u001b[0mfiles\u001b[0m\u001b[0;34m.\u001b[0m\u001b[0mupload\u001b[0m\u001b[0;34m(\u001b[0m\u001b[0;34m)\u001b[0m\u001b[0;34m\u001b[0m\u001b[0;34m\u001b[0m\u001b[0m\n\u001b[0m\u001b[1;32m      3\u001b[0m \u001b[0;32mfor\u001b[0m \u001b[0mfn\u001b[0m \u001b[0;32min\u001b[0m \u001b[0muploaded\u001b[0m\u001b[0;34m.\u001b[0m\u001b[0mkeys\u001b[0m\u001b[0;34m(\u001b[0m\u001b[0;34m)\u001b[0m\u001b[0;34m:\u001b[0m\u001b[0;34m\u001b[0m\u001b[0;34m\u001b[0m\u001b[0m\n\u001b[1;32m      4\u001b[0m   print('User uploaded file \"{name}\" with length {length} bytes'.format(\n\u001b[1;32m      5\u001b[0m       name=fn, length=len(uploaded[fn])))\n",
            "\u001b[0;32m/usr/local/lib/python3.10/dist-packages/google/colab/files.py\u001b[0m in \u001b[0;36mupload\u001b[0;34m()\u001b[0m\n\u001b[1;32m     67\u001b[0m   \"\"\"\n\u001b[1;32m     68\u001b[0m \u001b[0;34m\u001b[0m\u001b[0m\n\u001b[0;32m---> 69\u001b[0;31m   \u001b[0muploaded_files\u001b[0m \u001b[0;34m=\u001b[0m \u001b[0m_upload_files\u001b[0m\u001b[0;34m(\u001b[0m\u001b[0mmultiple\u001b[0m\u001b[0;34m=\u001b[0m\u001b[0;32mTrue\u001b[0m\u001b[0;34m)\u001b[0m\u001b[0;34m\u001b[0m\u001b[0;34m\u001b[0m\u001b[0m\n\u001b[0m\u001b[1;32m     70\u001b[0m   \u001b[0;31m# Mapping from original filename to filename as saved locally.\u001b[0m\u001b[0;34m\u001b[0m\u001b[0;34m\u001b[0m\u001b[0m\n\u001b[1;32m     71\u001b[0m   \u001b[0mlocal_filenames\u001b[0m \u001b[0;34m=\u001b[0m \u001b[0mdict\u001b[0m\u001b[0;34m(\u001b[0m\u001b[0;34m)\u001b[0m\u001b[0;34m\u001b[0m\u001b[0;34m\u001b[0m\u001b[0m\n",
            "\u001b[0;32m/usr/local/lib/python3.10/dist-packages/google/colab/files.py\u001b[0m in \u001b[0;36m_upload_files\u001b[0;34m(multiple)\u001b[0m\n\u001b[1;32m    154\u001b[0m \u001b[0;34m\u001b[0m\u001b[0m\n\u001b[1;32m    155\u001b[0m   \u001b[0;31m# First result is always an indication that the file picker has completed.\u001b[0m\u001b[0;34m\u001b[0m\u001b[0;34m\u001b[0m\u001b[0m\n\u001b[0;32m--> 156\u001b[0;31m   result = _output.eval_js(\n\u001b[0m\u001b[1;32m    157\u001b[0m       'google.colab._files._uploadFiles(\"{input_id}\", \"{output_id}\")'.format(\n\u001b[1;32m    158\u001b[0m           \u001b[0minput_id\u001b[0m\u001b[0;34m=\u001b[0m\u001b[0minput_id\u001b[0m\u001b[0;34m,\u001b[0m \u001b[0moutput_id\u001b[0m\u001b[0;34m=\u001b[0m\u001b[0moutput_id\u001b[0m\u001b[0;34m\u001b[0m\u001b[0;34m\u001b[0m\u001b[0m\n",
            "\u001b[0;32m/usr/local/lib/python3.10/dist-packages/google/colab/output/_js.py\u001b[0m in \u001b[0;36meval_js\u001b[0;34m(script, ignore_result, timeout_sec)\u001b[0m\n\u001b[1;32m     38\u001b[0m   \u001b[0;32mif\u001b[0m \u001b[0mignore_result\u001b[0m\u001b[0;34m:\u001b[0m\u001b[0;34m\u001b[0m\u001b[0;34m\u001b[0m\u001b[0m\n\u001b[1;32m     39\u001b[0m     \u001b[0;32mreturn\u001b[0m\u001b[0;34m\u001b[0m\u001b[0;34m\u001b[0m\u001b[0m\n\u001b[0;32m---> 40\u001b[0;31m   \u001b[0;32mreturn\u001b[0m \u001b[0m_message\u001b[0m\u001b[0;34m.\u001b[0m\u001b[0mread_reply_from_input\u001b[0m\u001b[0;34m(\u001b[0m\u001b[0mrequest_id\u001b[0m\u001b[0;34m,\u001b[0m \u001b[0mtimeout_sec\u001b[0m\u001b[0;34m)\u001b[0m\u001b[0;34m\u001b[0m\u001b[0;34m\u001b[0m\u001b[0m\n\u001b[0m\u001b[1;32m     41\u001b[0m \u001b[0;34m\u001b[0m\u001b[0m\n\u001b[1;32m     42\u001b[0m \u001b[0;34m\u001b[0m\u001b[0m\n",
            "\u001b[0;32m/usr/local/lib/python3.10/dist-packages/google/colab/_message.py\u001b[0m in \u001b[0;36mread_reply_from_input\u001b[0;34m(message_id, timeout_sec)\u001b[0m\n\u001b[1;32m     94\u001b[0m     \u001b[0mreply\u001b[0m \u001b[0;34m=\u001b[0m \u001b[0m_read_next_input_message\u001b[0m\u001b[0;34m(\u001b[0m\u001b[0;34m)\u001b[0m\u001b[0;34m\u001b[0m\u001b[0;34m\u001b[0m\u001b[0m\n\u001b[1;32m     95\u001b[0m     \u001b[0;32mif\u001b[0m \u001b[0mreply\u001b[0m \u001b[0;34m==\u001b[0m \u001b[0m_NOT_READY\u001b[0m \u001b[0;32mor\u001b[0m \u001b[0;32mnot\u001b[0m \u001b[0misinstance\u001b[0m\u001b[0;34m(\u001b[0m\u001b[0mreply\u001b[0m\u001b[0;34m,\u001b[0m \u001b[0mdict\u001b[0m\u001b[0;34m)\u001b[0m\u001b[0;34m:\u001b[0m\u001b[0;34m\u001b[0m\u001b[0;34m\u001b[0m\u001b[0m\n\u001b[0;32m---> 96\u001b[0;31m       \u001b[0mtime\u001b[0m\u001b[0;34m.\u001b[0m\u001b[0msleep\u001b[0m\u001b[0;34m(\u001b[0m\u001b[0;36m0.025\u001b[0m\u001b[0;34m)\u001b[0m\u001b[0;34m\u001b[0m\u001b[0;34m\u001b[0m\u001b[0m\n\u001b[0m\u001b[1;32m     97\u001b[0m       \u001b[0;32mcontinue\u001b[0m\u001b[0;34m\u001b[0m\u001b[0;34m\u001b[0m\u001b[0m\n\u001b[1;32m     98\u001b[0m     if (\n",
            "\u001b[0;31mKeyboardInterrupt\u001b[0m: "
          ]
        }
      ]
    },
    {
      "cell_type": "code",
      "source": [
        "#Loading data\n",
        "fileName = '1001_IEO_ANG_HI.wav'\n",
        "data, sampling_rate  = librosa.core.load(fileName)\n",
        "#Playing the audio\n",
        "Audio(data = data,rate = sampling_rate)"
      ],
      "metadata": {
        "id": "QmGJ6AKTm4pN"
      },
      "execution_count": null,
      "outputs": []
    },
    {
      "cell_type": "code",
      "source": [
        "# Duration : Total duration of the audio\n",
        "total_samples = data.size\n",
        "total_duration = int(total_samples/sampling_rate)"
      ],
      "metadata": {
        "id": "ieTkagepnHaX"
      },
      "execution_count": null,
      "outputs": []
    },
    {
      "cell_type": "code",
      "source": [
        "# Fourier Transform from data\n",
        "\n",
        "fourier_transform = np.fft.rfft(data)\n",
        "\n",
        "# Frequencies\n",
        "\n",
        "frequencies = np.abs(fourier_transform)\n",
        "\n",
        "# Maximum Pitch\n",
        "\n",
        "max_pitch = np.argmax(frequencies)"
      ],
      "metadata": {
        "id": "IjvFcL_CnLLz"
      },
      "execution_count": null,
      "outputs": []
    },
    {
      "cell_type": "code",
      "source": [
        "arr = [117]*len(frequencies)\n",
        "\n",
        "sum_freq = 0\n",
        "\n",
        "for i in range(0,len(frequencies)):\n",
        "  if int(frequencies[i])>0 and int(frequencies[i])<int(max_pitch):\n",
        "    arr[i] = int(frequencies[i])\n",
        "    sum_freq=sum_freq + i"
      ],
      "metadata": {
        "id": "WGCgmEUlnP2i"
      },
      "execution_count": null,
      "outputs": []
    },
    {
      "cell_type": "code",
      "source": [
        "\n",
        "# Minmum Pitch\n",
        "min_pitch = arr.index(min(arr))"
      ],
      "metadata": {
        "id": "cRXqN9LEni8l"
      },
      "execution_count": null,
      "outputs": []
    },
    {
      "cell_type": "code",
      "source": [
        "# Mean pitch\n",
        "mean_pitch=sum_freq/len(frequencies)"
      ],
      "metadata": {
        "id": "7Sq4WnFWnVxG"
      },
      "execution_count": null,
      "outputs": []
    },
    {
      "cell_type": "code",
      "source": [
        "#total energy\n",
        "energy= np.sum(data**2)\n",
        "energy_freq = np.sum(frequencies**2)/total_samples\n",
        "#power\n",
        "power = energy / total_duration"
      ],
      "metadata": {
        "id": "SPE-unpMocIl"
      },
      "execution_count": null,
      "outputs": []
    },
    {
      "cell_type": "code",
      "source": [
        "plt.figure(1, figsize=(9,6))\n",
        "plt.subplot(211)\n",
        "#IntensityMin : Minimum Intensity of the audio signal\n",
        "Pxx, freqs, bins, im = plt.specgram(data, Fs = sampling_rate, NFFT=1024, cmap=plt.get_cmap('autumn_r'))\n",
        "col_bar=plt.colorbar(im)\n",
        "plt.xlabel('Time (s)')\n",
        "plt.ylabel('Frequency (Hz)')\n",
        "col_bar.set_label('Intensity dB')\n",
        "plt.show()\n",
        "plt.close()"
      ],
      "metadata": {
        "id": "mfWD_nAKoexH"
      },
      "execution_count": null,
      "outputs": []
    },
    {
      "cell_type": "code",
      "source": [
        "#minimum intensity\n",
        "min_intensity = col_bar.vmin\n",
        "min_intensity"
      ],
      "metadata": {
        "id": "phXf4PYyokxv"
      },
      "execution_count": null,
      "outputs": []
    },
    {
      "cell_type": "code",
      "source": [
        "#maximum intensity\n",
        "max_intensity = col_bar.vmax\n",
        "max_intensity"
      ],
      "metadata": {
        "id": "gX9mruStosBS"
      },
      "execution_count": null,
      "outputs": []
    },
    {
      "cell_type": "code",
      "source": [
        "#mean intensity\n",
        "mean_intensity = (min_intensity + max_intensity) / 2\n",
        "mean_intensity\n"
      ],
      "metadata": {
        "id": "e3KJcJqfovnk"
      },
      "execution_count": null,
      "outputs": []
    },
    {
      "cell_type": "code",
      "source": [
        "sound = AudioSegment.from_wav(\"1001_IEO_ANG_HI.wav\")\n",
        "len(sound)"
      ],
      "metadata": {
        "id": "kNtWOTZlozOS"
      },
      "execution_count": null,
      "outputs": []
    },
    {
      "cell_type": "code",
      "source": [
        "chunks = split_on_silence(sound,\n",
        "    # must be silent for at least half a second\n",
        "    min_silence_len=20,\n",
        "\n",
        "    # consider it silent if quieter than -16 dBFS\n",
        "    silence_thresh=-(round(abs(sound.dBFS))+100)\n",
        ")\n",
        "\n",
        "\n",
        "\n",
        "#1000 means 1 sec then 60 second means\n",
        "sixty_seconds = 60 * 1000\n",
        "\n",
        "second_1_minute = sound[sixty_seconds:120000]\n",
        "hunks = split_on_silence(second_1_minute,\n",
        "    # must be silent for at least half a second\n",
        "    min_silence_len=20,\n",
        "\n",
        "    # consider it silent if quieter than -16 dBFS\n",
        "    silence_thresh=-(round(abs(sound.dBFS))+100)\n",
        ")"
      ],
      "metadata": {
        "id": "HoZsqmvdo9b5"
      },
      "execution_count": null,
      "outputs": []
    },
    {
      "cell_type": "code",
      "source": [
        "#SPEAKING RATE\n",
        "speaking_rate=len(hunks)/len(chunks)"
      ],
      "metadata": {
        "id": "kKXvoGkHo-xd"
      },
      "execution_count": null,
      "outputs": []
    },
    {
      "cell_type": "code",
      "source": [
        "#SILENCES\n",
        "pauses=detect_silence(sound, min_silence_len=20, silence_thresh=-(round(abs(sound.dBFS))+100), seek_step=1)\n",
        "\n",
        "#FINDING DURATIONS\n",
        "sumd=0\n",
        "ls=[]\n",
        "for start_i, end_i in pauses:\n",
        "         dur=int(end_i)-int(start_i)\n",
        "         ls.append(dur)\n",
        "breaks=[]\n",
        "\n",
        "#VOICE BREAKS\n",
        "for i in ls:\n",
        "    if i >900:\n",
        "        breaks.append(i)\n",
        "#SEPRATING BREAKES AND PAUSES\n",
        "ls=list(set(ls)-set(breaks))"
      ],
      "metadata": {
        "id": "qWFKyepvpC_7"
      },
      "execution_count": null,
      "outputs": []
    },
    {
      "cell_type": "code",
      "source": [
        "#PUASES DURATION\n",
        "for i in ls:\n",
        "    sumd=sumd+i"
      ],
      "metadata": {
        "id": "ZvibiwiOpFug"
      },
      "execution_count": null,
      "outputs": []
    },
    {
      "cell_type": "code",
      "source": [
        "#TOTAL DURATION OF PAUSES\n",
        "durp=sumd"
      ],
      "metadata": {
        "id": "QGwyj_8ipKQP"
      },
      "execution_count": null,
      "outputs": []
    },
    {
      "cell_type": "code",
      "source": [
        "#NO OF PAUSES\n",
        "nop=len(ls)"
      ],
      "metadata": {
        "id": "6QJcC_atpNx_"
      },
      "execution_count": null,
      "outputs": []
    },
    {
      "cell_type": "code",
      "source": [
        "#NO OF VOICE BREAKES\n",
        "noofVoiceBreaks=len(breaks)"
      ],
      "metadata": {
        "id": "g1PdM83VpRD0"
      },
      "execution_count": null,
      "outputs": []
    },
    {
      "cell_type": "code",
      "source": [
        "#FINDING PEAK\n",
        "peak=scipy.signal.find_peaks(data,rel_height=0.5)"
      ],
      "metadata": {
        "id": "fKdZp-KlqQNK"
      },
      "execution_count": null,
      "outputs": []
    },
    {
      "cell_type": "code",
      "source": [
        "#MAXIMUM FALLING AND MAXIMUM RISING\n",
        "\n",
        "MaxFalling=np.amin(data)\n",
        "MaxRising=np.amax(peak[0])\n",
        "sums=0"
      ],
      "metadata": {
        "id": "2gXHE4AeqTMj"
      },
      "execution_count": null,
      "outputs": []
    },
    {
      "cell_type": "code",
      "source": [
        "#JITTER, SHIMMER, JITTERRAP\n",
        "for i in range(1,len(peak[0])-1):\n",
        "    sums=sums+abs(20*math.log10(peak[0][i+1]/peak[0][i]))\n",
        "\n",
        "#SHIMMER\n",
        "shimmer=sums/(len(peak[0])-1)\n",
        "peakf=abs(np.fft.fft(peak[0]))\n",
        "sumps=0\n",
        "for i in range(1,len(peakf)-1):\n",
        "    sumps=sumps+(peakf[i+1]**-1)-(peakf[i]**-1)\n",
        "\n",
        "#JITTER\n",
        "jitter=sumps/(len(peakf)-1)\n",
        "sortedp=np.sort(peak[0])\n",
        "sortedf=abs(np.fft.fft(sortedp))\n",
        "dif=abs(sortedp[11]-sortedp[15])\n",
        "suh=0\n",
        "avgabsdiff=(dif)/4\n",
        "avgneigh1=(abs(sortedp[6]-sortedp[10]))\n",
        "avgneigh2=abs(sortedp[17]-sortedp[22])\n",
        "avg=(dif+avgneigh1+avgneigh2)/3\n",
        "\n",
        "for i in range(11,16):\n",
        "    suh=suh+abs(sortedf[i]**-1)\n",
        "period=suh/5\n",
        "\n",
        "#JITTERRAP\n",
        "jitterrap=(avgabsdiff+avg)/period\n",
        "jitter"
      ],
      "metadata": {
        "id": "PdCcMaSJqYmE"
      },
      "execution_count": null,
      "outputs": []
    },
    {
      "cell_type": "code",
      "source": [
        "#NUMBER OF RISING, NUMBER OF FALLING, AVERAGE RISE, AVERAGE FALL\n",
        "\n",
        "noofrise=len(peak[0])\n",
        "\n",
        "avgtorise=noofrise/len(data)\n",
        "nooffall=0\n",
        "for i in data:\n",
        "    if i == np.amin(data):\n",
        "        nooffall=nooffall+1\n",
        "\n",
        "avgtofall=nooffall/len(data)"
      ],
      "metadata": {
        "id": "jRxQWxxRqbv5"
      },
      "execution_count": null,
      "outputs": []
    },
    {
      "cell_type": "code",
      "source": [
        "print(\"duration: \"+str(total_duration)+\"seconds\\n\")\n",
        "\n",
        "\n",
        "print(\"intensityMin: \"+str(min_intensity)+\"dB\\n\")\n",
        "print(\"intensityMax: \"+str(max_intensity)+\"dB\\n\")\n",
        "print(\"intensityMean: \"+str(mean_intensity)+\"dB\\n\")\n",
        "print(\"jitter: \"+str(jitter)+\"\\n\")\n",
        "print(\"shimmer: \"+str(shimmer)+\"dB\\n\")\n",
        "\n",
        "print(\"speakRate: \"+str(speaking_rate)+\"wpm\\n\")\n",
        "print(\"numPauses: \"+str(nop)+\"\\n\")\n",
        "#print(\"maxDurPauses: \"+str(maximum_pause/1000)+\"sec\\n\")\n",
        "#print(\"avgDurPauses: \"+str(avgp/1000)+\"sec\\n\")\n",
        "print(\"TotDurPauses: \"+str(durp/1000)+\"sec\\n\")\n",
        "\n",
        "print(\"Engaging tone: \"+str(MaxFalling)+\"\\n\")\n",
        "\n",
        "print(\"NOT Stressed: \"+str(avgtofall)+\"\\n\")\n",
        "\n"
      ],
      "metadata": {
        "id": "-wbApuHbqgvJ"
      },
      "execution_count": null,
      "outputs": []
    },
    {
      "cell_type": "markdown",
      "source": [
        "SPECTRAL FEATURE SET"
      ],
      "metadata": {
        "id": "oI4Ks-kstzBA"
      }
    },
    {
      "cell_type": "code",
      "source": [
        "spectral_centroids =  librosa.feature.spectral_centroid(y=x, sr=sr, n_fft=13)[0]\n",
        "spectral_centroids.shape\n",
        "spectral_centroids"
      ],
      "metadata": {
        "id": "amCfJ5EKE2hB"
      },
      "execution_count": null,
      "outputs": []
    },
    {
      "cell_type": "code",
      "source": [
        "spectral_centroids =  librosa.feature.spectral_centroid(y=x , sr=sr)\n",
        "spectral_bandwidths =  librosa.feature.spectral_bandwidth(y=x, sr=sr)\n",
        "spectral_contrasts =  librosa.feature.spectral_contrast(y=x, sr=sr)\n",
        "spectral_flatness =  librosa.feature.spectral_flatness(y=x)\n",
        "spectral_rolloff =  librosa.feature.spectral_rolloff(y=x, sr=sr)\n",
        "\n"
      ],
      "metadata": {
        "id": "_Waww2G1GpKe"
      },
      "execution_count": null,
      "outputs": []
    },
    {
      "cell_type": "code",
      "source": [
        "spectral_centroids"
      ],
      "metadata": {
        "id": "EMjEbzV8VNT5"
      },
      "execution_count": null,
      "outputs": []
    },
    {
      "cell_type": "code",
      "source": [
        "spectral_bandwidths"
      ],
      "metadata": {
        "id": "BceySy8IVPfj"
      },
      "execution_count": null,
      "outputs": []
    },
    {
      "cell_type": "code",
      "source": [
        "spectral_contrasts"
      ],
      "metadata": {
        "id": "JZGhxnHtVTtL"
      },
      "execution_count": null,
      "outputs": []
    },
    {
      "cell_type": "code",
      "source": [
        "spectral_flatness"
      ],
      "metadata": {
        "id": "CkBs0oj8VVDY"
      },
      "execution_count": null,
      "outputs": []
    },
    {
      "cell_type": "code",
      "source": [
        "spectral_rolloff"
      ],
      "metadata": {
        "id": "CEGQrF51VZ37"
      },
      "execution_count": null,
      "outputs": []
    },
    {
      "cell_type": "code",
      "source": [
        "mfccs = librosa.feature.mfcc(y=x, sr=sr, n_mfcc=13)\n",
        "mfccs.shape"
      ],
      "metadata": {
        "id": "stBu8xyqxOZU"
      },
      "execution_count": null,
      "outputs": []
    },
    {
      "cell_type": "code",
      "source": [
        "lpc = librosa.lpc(x, order=12)\n",
        "lpc"
      ],
      "metadata": {
        "id": "LMhmGXGmboh2"
      },
      "execution_count": null,
      "outputs": []
    },
    {
      "cell_type": "code",
      "source": [
        "pip install pitch"
      ],
      "metadata": {
        "colab": {
          "base_uri": "https://localhost:8080/"
        },
        "id": "e8VXSOOBELdZ",
        "outputId": "5a374bf4-8087-4210-962c-918babd2f338"
      },
      "execution_count": null,
      "outputs": [
        {
          "output_type": "stream",
          "name": "stdout",
          "text": [
            "Collecting pitch\n",
            "  Downloading pitch-0.0.6-py3-none-any.whl (2.6 kB)\n",
            "Installing collected packages: pitch\n",
            "Successfully installed pitch-0.0.6\n"
          ]
        }
      ]
    },
    {
      "cell_type": "code",
      "source": [
        "#install packages\n",
        "!pip install librosa\n",
        "!pip install wave\n",
        "!pip install scipy\n",
        "!pip install pydub\n",
        "!pip install  soundfile\n",
        "!pip install pygobject\n",
        "!pip install Audio"
      ],
      "metadata": {
        "colab": {
          "base_uri": "https://localhost:8080/",
          "height": 1000
        },
        "id": "9exrTgfqmjj_",
        "outputId": "9afb4cd5-11b2-4f32-9f5c-d3427059967d"
      },
      "execution_count": null,
      "outputs": [
        {
          "output_type": "stream",
          "name": "stdout",
          "text": [
            "Requirement already satisfied: librosa in /usr/local/lib/python3.10/dist-packages (0.10.1)\n",
            "Requirement already satisfied: audioread>=2.1.9 in /usr/local/lib/python3.10/dist-packages (from librosa) (3.0.1)\n",
            "Requirement already satisfied: numpy!=1.22.0,!=1.22.1,!=1.22.2,>=1.20.3 in /usr/local/lib/python3.10/dist-packages (from librosa) (1.23.5)\n",
            "Requirement already satisfied: scipy>=1.2.0 in /usr/local/lib/python3.10/dist-packages (from librosa) (1.11.3)\n",
            "Requirement already satisfied: scikit-learn>=0.20.0 in /usr/local/lib/python3.10/dist-packages (from librosa) (1.2.2)\n",
            "Requirement already satisfied: joblib>=0.14 in /usr/local/lib/python3.10/dist-packages (from librosa) (1.3.2)\n",
            "Requirement already satisfied: decorator>=4.3.0 in /usr/local/lib/python3.10/dist-packages (from librosa) (4.4.2)\n",
            "Requirement already satisfied: numba>=0.51.0 in /usr/local/lib/python3.10/dist-packages (from librosa) (0.58.1)\n",
            "Requirement already satisfied: soundfile>=0.12.1 in /usr/local/lib/python3.10/dist-packages (from librosa) (0.12.1)\n",
            "Requirement already satisfied: pooch>=1.0 in /usr/local/lib/python3.10/dist-packages (from librosa) (1.8.0)\n",
            "Requirement already satisfied: soxr>=0.3.2 in /usr/local/lib/python3.10/dist-packages (from librosa) (0.3.7)\n",
            "Requirement already satisfied: typing-extensions>=4.1.1 in /usr/local/lib/python3.10/dist-packages (from librosa) (4.5.0)\n",
            "Requirement already satisfied: lazy-loader>=0.1 in /usr/local/lib/python3.10/dist-packages (from librosa) (0.3)\n",
            "Requirement already satisfied: msgpack>=1.0 in /usr/local/lib/python3.10/dist-packages (from librosa) (1.0.7)\n",
            "Requirement already satisfied: llvmlite<0.42,>=0.41.0dev0 in /usr/local/lib/python3.10/dist-packages (from numba>=0.51.0->librosa) (0.41.1)\n",
            "Requirement already satisfied: platformdirs>=2.5.0 in /usr/local/lib/python3.10/dist-packages (from pooch>=1.0->librosa) (3.11.0)\n",
            "Requirement already satisfied: packaging>=20.0 in /usr/local/lib/python3.10/dist-packages (from pooch>=1.0->librosa) (23.2)\n",
            "Requirement already satisfied: requests>=2.19.0 in /usr/local/lib/python3.10/dist-packages (from pooch>=1.0->librosa) (2.31.0)\n",
            "Requirement already satisfied: threadpoolctl>=2.0.0 in /usr/local/lib/python3.10/dist-packages (from scikit-learn>=0.20.0->librosa) (3.2.0)\n",
            "Requirement already satisfied: cffi>=1.0 in /usr/local/lib/python3.10/dist-packages (from soundfile>=0.12.1->librosa) (1.16.0)\n",
            "Requirement already satisfied: pycparser in /usr/local/lib/python3.10/dist-packages (from cffi>=1.0->soundfile>=0.12.1->librosa) (2.21)\n",
            "Requirement already satisfied: charset-normalizer<4,>=2 in /usr/local/lib/python3.10/dist-packages (from requests>=2.19.0->pooch>=1.0->librosa) (3.3.2)\n",
            "Requirement already satisfied: idna<4,>=2.5 in /usr/local/lib/python3.10/dist-packages (from requests>=2.19.0->pooch>=1.0->librosa) (3.4)\n",
            "Requirement already satisfied: urllib3<3,>=1.21.1 in /usr/local/lib/python3.10/dist-packages (from requests>=2.19.0->pooch>=1.0->librosa) (2.0.7)\n",
            "Requirement already satisfied: certifi>=2017.4.17 in /usr/local/lib/python3.10/dist-packages (from requests>=2.19.0->pooch>=1.0->librosa) (2023.7.22)\n",
            "Collecting wave\n",
            "  Downloading Wave-0.0.2.zip (38 kB)\n",
            "  Preparing metadata (setup.py) ... \u001b[?25l\u001b[?25hdone\n",
            "Building wheels for collected packages: wave\n",
            "  Building wheel for wave (setup.py) ... \u001b[?25l\u001b[?25hdone\n",
            "  Created wheel for wave: filename=Wave-0.0.2-py3-none-any.whl size=1221 sha256=c99e3b3c960e3a45350c29c01fe26b56337196cfdfcb8581d039de912bbc6dfb\n",
            "  Stored in directory: /root/.cache/pip/wheels/f8/24/4d/1b01c0e32da3eb3fd71bbbc6093fcc557ec3b2d9e532ecd65d\n",
            "Successfully built wave\n",
            "Installing collected packages: wave\n",
            "Successfully installed wave-0.0.2\n"
          ]
        },
        {
          "output_type": "display_data",
          "data": {
            "application/vnd.colab-display-data+json": {
              "pip_warning": {
                "packages": [
                  "wave"
                ]
              }
            }
          },
          "metadata": {}
        },
        {
          "output_type": "stream",
          "name": "stdout",
          "text": [
            "Requirement already satisfied: scipy in /usr/local/lib/python3.10/dist-packages (1.11.3)\n",
            "Requirement already satisfied: numpy<1.28.0,>=1.21.6 in /usr/local/lib/python3.10/dist-packages (from scipy) (1.23.5)\n",
            "Collecting pydub\n",
            "  Downloading pydub-0.25.1-py2.py3-none-any.whl (32 kB)\n",
            "Installing collected packages: pydub\n",
            "Successfully installed pydub-0.25.1\n",
            "Requirement already satisfied: soundfile in /usr/local/lib/python3.10/dist-packages (0.12.1)\n",
            "Requirement already satisfied: cffi>=1.0 in /usr/local/lib/python3.10/dist-packages (from soundfile) (1.16.0)\n",
            "Requirement already satisfied: pycparser in /usr/local/lib/python3.10/dist-packages (from cffi>=1.0->soundfile) (2.21)\n",
            "Requirement already satisfied: pygobject in /usr/lib/python3/dist-packages (3.42.1)\n",
            "Collecting pycairo>=1.16.0 (from pygobject)\n",
            "  Downloading pycairo-1.25.1.tar.gz (347 kB)\n",
            "\u001b[2K     \u001b[90m━━━━━━━━━━━━━━━━━━━━━━━━━━━━━━━━━━━━━━━━\u001b[0m \u001b[32m347.1/347.1 kB\u001b[0m \u001b[31m5.7 MB/s\u001b[0m eta \u001b[36m0:00:00\u001b[0m\n",
            "\u001b[?25h  Installing build dependencies ... \u001b[?25l\u001b[?25hdone\n",
            "  Getting requirements to build wheel ... \u001b[?25l\u001b[?25hdone\n",
            "  Installing backend dependencies ... \u001b[?25l\u001b[?25hdone\n",
            "  Preparing metadata (pyproject.toml) ... \u001b[?25l\u001b[?25hdone\n",
            "Building wheels for collected packages: pycairo\n",
            "  \u001b[1;31merror\u001b[0m: \u001b[1msubprocess-exited-with-error\u001b[0m\n",
            "  \n",
            "  \u001b[31m×\u001b[0m \u001b[32mBuilding wheel for pycairo \u001b[0m\u001b[1;32m(\u001b[0m\u001b[32mpyproject.toml\u001b[0m\u001b[1;32m)\u001b[0m did not run successfully.\n",
            "  \u001b[31m│\u001b[0m exit code: \u001b[1;36m1\u001b[0m\n",
            "  \u001b[31m╰─>\u001b[0m See above for output.\n",
            "  \n",
            "  \u001b[1;35mnote\u001b[0m: This error originates from a subprocess, and is likely not a problem with pip.\n",
            "  Building wheel for pycairo (pyproject.toml) ... \u001b[?25l\u001b[?25herror\n",
            "\u001b[31m  ERROR: Failed building wheel for pycairo\u001b[0m\u001b[31m\n",
            "\u001b[0mFailed to build pycairo\n",
            "\u001b[31mERROR: Could not build wheels for pycairo, which is required to install pyproject.toml-based projects\u001b[0m\u001b[31m\n",
            "\u001b[0mCollecting Audio\n",
            "  Downloading audio-1.5.0.tar.gz (2.1 kB)\n",
            "  Preparing metadata (setup.py) ... \u001b[?25l\u001b[?25hdone\n",
            "Collecting audio.bitstream (from Audio)\n",
            "  Downloading audio.bitstream-2.5.4.tar.gz (1.2 kB)\n",
            "  Preparing metadata (setup.py) ... \u001b[?25l\u001b[?25hdone\n",
            "Collecting audio.coders (from Audio)\n",
            "  Downloading audio.coders-5.0.2.tar.gz (931 kB)\n",
            "\u001b[2K     \u001b[90m━━━━━━━━━━━━━━━━━━━━━━━━━━━━━━━━━━━━━━━━\u001b[0m \u001b[32m931.5/931.5 kB\u001b[0m \u001b[31m12.0 MB/s\u001b[0m eta \u001b[36m0:00:00\u001b[0m\n",
            "\u001b[?25h  Preparing metadata (setup.py) ... \u001b[?25l\u001b[?25hdone\n",
            "Collecting audio.filters (from Audio)\n",
            "  Downloading audio.filters-0.2.2.tar.gz (541 kB)\n",
            "\u001b[2K     \u001b[90m━━━━━━━━━━━━━━━━━━━━━━━━━━━━━━━━━━━━━━━━\u001b[0m \u001b[32m541.1/541.1 kB\u001b[0m \u001b[31m42.6 MB/s\u001b[0m eta \u001b[36m0:00:00\u001b[0m\n",
            "\u001b[?25h  \u001b[1;31merror\u001b[0m: \u001b[1msubprocess-exited-with-error\u001b[0m\n",
            "  \n",
            "  \u001b[31m×\u001b[0m \u001b[32mpython setup.py egg_info\u001b[0m did not run successfully.\n",
            "  \u001b[31m│\u001b[0m exit code: \u001b[1;36m1\u001b[0m\n",
            "  \u001b[31m╰─>\u001b[0m See above for output.\n",
            "  \n",
            "  \u001b[1;35mnote\u001b[0m: This error originates from a subprocess, and is likely not a problem with pip.\n",
            "  Preparing metadata (setup.py) ... \u001b[?25l\u001b[?25herror\n",
            "\u001b[1;31merror\u001b[0m: \u001b[1mmetadata-generation-failed\u001b[0m\n",
            "\n",
            "\u001b[31m×\u001b[0m Encountered error while generating package metadata.\n",
            "\u001b[31m╰─>\u001b[0m See above for output.\n",
            "\n",
            "\u001b[1;35mnote\u001b[0m: This is an issue with the package mentioned above, not pip.\n",
            "\u001b[1;36mhint\u001b[0m: See above for details.\n"
          ]
        }
      ]
    },
    {
      "cell_type": "code",
      "source": [
        "import math\n",
        "import wave\n",
        "import scipy\n",
        "import librosa\n",
        "import numpy as np\n",
        "import librosa.display\n",
        "import soundfile as sf\n",
        "from pydub import AudioSegment\n",
        "from google.colab import files\n",
        "import matplotlib.pyplot as plt\n",
        "from IPython.display import Audio\n",
        "from pydub.utils import db_to_float\n",
        "from pydub.silence import split_on_silence\n",
        "from pydub.silence import detect_silence"
      ],
      "metadata": {
        "id": "3N56J0ireOZH"
      },
      "execution_count": null,
      "outputs": []
    },
    {
      "cell_type": "code",
      "source": [
        "import os\n",
        "import csv\n",
        "import librosa\n",
        "import numpy as np\n",
        "import pitch\n",
        "\n",
        "# Function to compute RMSE\n",
        "def rmse(x):\n",
        "    return np.sum(x**2)\n",
        "    pass\n",
        "\n",
        "folder_path = '/content/temp_data'\n",
        "\n",
        "# List all files in the folder\n",
        "files = os.listdir(folder_path)\n",
        "\n",
        "# Create a CSV file to write the features\n",
        "csv_file_path = '/content/features.csv'\n",
        "\n",
        "# Open the CSV file in write mode\n",
        "with open(csv_file_path, 'w', newline='') as csvfile:\n",
        "    # Create a CSV writer object\n",
        "    csv_writer = csv.writer(csvfile)\n",
        "\n",
        " # Write the header row with feature names\n",
        "    header = ['File', 'Pitch', 'RMSE', 'LPC', 'MFCCs','Shimmer','Jitter','Emotion']\n",
        "    csv_writer.writerow(header)\n",
        "\n",
        "    # Iterate over each file\n",
        "    for file in files:\n",
        "        # Construct the full path to the file\n",
        "        file_path = os.path.join(folder_path, file)\n",
        "\n",
        "        part=file.split('_')\n",
        "\n",
        "        if part[2] == 'SAD':\n",
        "          if part[3] == 'HI':\n",
        "            file_emotion = 'sadHi'\n",
        "          elif part[3] == 'MD':\n",
        "            file_emotion = 'sadMd'\n",
        "          elif part[3] == 'LO':\n",
        "            file_emotion = 'sadLo'\n",
        "          elif part[3] == 'XX':\n",
        "            file_emotion = 'sadXx'\n",
        "        elif part[2] == 'ANG':\n",
        "          if part[3] == 'HI':\n",
        "            file_emotion = 'angryHi'\n",
        "          elif part[3] == 'MD':\n",
        "            file_emotion = 'angryMd'\n",
        "          elif part[3] == 'LO':\n",
        "            file_emotion = 'angryLo'\n",
        "          elif part[3] == 'XX':\n",
        "            file_emotion = 'angryXx'\n",
        "        elif part[2] == 'DIS':\n",
        "          if part[3] == 'HI':\n",
        "            file_emotion = 'disgustHi'\n",
        "          elif part[3] == 'MD':\n",
        "            file_emotion = 'disgustMd'\n",
        "          elif part[3] == 'LO':\n",
        "            file_emotion = 'disgustLo'\n",
        "          elif part[3] == 'XX':\n",
        "            file_emotion = 'disgustXx'\n",
        "        elif part[2] == 'FEA':\n",
        "          if part[3] == 'HI':\n",
        "            file_emotion = 'fearHi'\n",
        "          elif part[3] == 'MD':\n",
        "            file_emotion = 'fearMd'\n",
        "          elif part[3] == 'LO':\n",
        "            file_emotion = 'fearLo'\n",
        "          elif part[3] == 'XX':\n",
        "            file_emotion = 'fearXx'\n",
        "        elif part[2] == 'HAP':\n",
        "          if part[3] == 'HI':\n",
        "            file_emotion = 'happyHi'\n",
        "          elif part[3] == 'MD':\n",
        "            file_emotion = 'happyMd'\n",
        "          elif part[3] == 'LO':\n",
        "            file_emotion = 'happyLo'\n",
        "          elif part[3] == 'XX':\n",
        "            file_emotion = 'happyXx'\n",
        "        elif part[2] == 'NEU':\n",
        "          if part[3] == 'HI':\n",
        "            file_emotion = 'neutralHi'\n",
        "          elif part[3] == 'MD':\n",
        "            file_emotion = 'neutralMd'\n",
        "          elif part[3] == 'LO':\n",
        "            file_emotion = 'neutralLo'\n",
        "          elif part[3] == 'XX':\n",
        "            file_emotion = 'neutralXx'\n",
        "        else:\n",
        "            file_emotion = 'Unknown'\n",
        "\n",
        "        # Load audio file\n",
        "        x, sr = librosa.load(file_path)\n",
        "\n",
        "        # Find pitch\n",
        "        p = pitch.find_pitch(file_path)\n",
        "\n",
        "        # Compute RMSE\n",
        "        rmse_value = rmse(x)\n",
        "\n",
        "        # Compute LPC\n",
        "        lpc = librosa.lpc(x, order=13)\n",
        "\n",
        "        # Compute MFCCs\n",
        "        mfccs = librosa.feature.mfcc(y=x, sr=sr, n_mfcc=13)\n",
        "\n",
        "        # Flatten MFCCs into a 1D array for simplicity (you may need to adapt this based on your needs)\n",
        "        mfccs_flat = np.ravel(mfccs)\n",
        "\n",
        "        sums=0\n",
        "\n",
        "        peak=scipy.signal.find_peaks(x,rel_height=0.5)\n",
        "\n",
        "        #JITTER, SHIMMER, JITTERRAP\n",
        "        for i in range(1,len(peak[0])-1):\n",
        "          sums=sums+abs(20*math.log10(peak[0][i+1]/peak[0][i]))\n",
        "\n",
        "        #SHIMMER\n",
        "        shimmer=sums/(len(peak[0])-1)\n",
        "        peakf=abs(np.fft.fft(peak[0]))\n",
        "        sumps=0\n",
        "        for i in range(1,len(peakf)-1):\n",
        "          sumps=sumps+(peakf[i+1]**-1)-(peakf[i]**-1)\n",
        "\n",
        "\n",
        "        #JITTER\n",
        "        jitter=sumps/(len(peakf)-1)\n",
        "        sortedp=np.sort(peak[0])\n",
        "        sortedf=abs(np.fft.fft(sortedp))\n",
        "        dif=abs(sortedp[11]-sortedp[15])\n",
        "        suh=0\n",
        "        avgabsdiff=(dif)/4\n",
        "        avgneigh1=(abs(sortedp[6]-sortedp[10]))\n",
        "        avgneigh2=abs(sortedp[17]-sortedp[22])\n",
        "        avg=(dif+avgneigh1+avgneigh2)/3\n",
        "\n",
        "        for i in range(11,16):\n",
        "          suh=suh+abs(sortedf[i]**-1)\n",
        "        period=suh/5\n",
        "\n",
        "\n",
        "\n",
        "        # Write the row to the CSV file\n",
        "        row = [file, p, rmse_value, lpc, mfccs_flat,shimmer,jitter,file_emotion]\n",
        "        csv_writer.writerow(row)\n",
        "\n",
        "# Print a message indicating the completion\n",
        "print(f'Features have been written to {csv_file_path}')\n",
        "\n"
      ],
      "metadata": {
        "colab": {
          "base_uri": "https://localhost:8080/",
          "height": 447
        },
        "id": "u2wfx-NQwEmq",
        "outputId": "2e14005b-7d41-42f0-e37d-1e6bbf75b620"
      },
      "execution_count": null,
      "outputs": [
        {
          "output_type": "stream",
          "name": "stdout",
          "text": [
            "Features have been written to /content/features.csv\n"
          ]
        },
        {
          "output_type": "display_data",
          "data": {
            "text/plain": [
              "<Figure size 640x480 with 1 Axes>"
            ],
            "image/png": "[encoded data removed]"
          },
          "metadata": {}
        }
      ]
    },
    {
      "cell_type": "code",
      "source": [
        "print(lpc_lst)"
      ],
      "metadata": {
        "id": "33-H0c2_WNe3"
      },
      "execution_count": null,
      "outputs": []
    },
    {
      "cell_type": "code",
      "source": [
        "# importing library\n",
        "import numpy\n",
        "\n",
        "# initializing list\n",
        "lst = [1, 7, 0, 6, 2, 5, 6]\n",
        "\n",
        "# converting list to array\n",
        "arr = numpy.array(lst)\n",
        "\n",
        "# displaying list\n",
        "print (\"List: \", lst)\n",
        "\n",
        "# displaying array\n",
        "print (\"Array: \", arr)\n",
        "print(arr.shape)"
      ],
      "metadata": {
        "id": "1S5OWnxwc5ou"
      },
      "execution_count": null,
      "outputs": []
    },
    {
      "cell_type": "code",
      "source": [
        "import os\n",
        "import csv\n",
        "import librosa\n",
        "import numpy as np\n",
        "import pitch  # Assuming you have a pitch module for finding pitch\n",
        "\n",
        "# Function to compute RMSE\n",
        "def rmse(x):\n",
        "    # Your implementation of RMSE here\n",
        "    pass\n",
        "\n",
        "# Set the folder path\n",
        "folder_path = '/content/temp_data'\n",
        "\n",
        "# List all files in the folder\n",
        "files = os.listdir(folder_path)\n",
        "\n",
        "# Create a CSV file to write the features\n",
        "csv_file_path = '/content/features.csv'\n",
        "\n",
        "# Open the CSV file in write mode\n",
        "with open(csv_file_path, 'w', newline='') as csvfile:\n",
        "    # Create a CSV writer object\n",
        "    csv_writer = csv.writer(csvfile)\n",
        "\n",
        "    # Write the header row with feature names\n",
        "    header = ['File', 'Pitch', 'RMSE', 'LPC', 'MFCCs','Shimmer','Jitter','Emotion']\n",
        "    csv_writer.writerow(header)\n",
        "\n",
        "    # Iterate over each file\n",
        "    for file in files:\n",
        "        # Construct the full path to the file\n",
        "        file_path = os.path.join(folder_path, file)\n",
        "\n",
        "        part=file.split('_')\n",
        "        if part[2] == 'SAD':\n",
        "            file_emotion = 'sad'\n",
        "        elif part[2] == 'ANG':\n",
        "            file_emotion = 'angry'\n",
        "        elif part[2] == 'DIS':\n",
        "            file_emotion = 'disgust'\n",
        "        elif part[2] == 'FEA':\n",
        "            file_emotion = 'fear'\n",
        "        elif part[2] == 'HAP':\n",
        "            file_emotion  = 'happy'\n",
        "        elif part[2] == 'NEU':\n",
        "            file_emotion = 'neutral'\n",
        "        else:\n",
        "            file_emotion = 'Unknown'\n",
        "\n",
        "\n",
        "        # Load audio file\n",
        "        x, sr = librosa.load(file_path)\n",
        "\n",
        "        peak=scipy.signal.find_peaks(x,rel_height=0.5)\n",
        "\n",
        "        # Find pitch\n",
        "        p = pitch.find_pitch(file_path)\n",
        "\n",
        "        # Compute RMSE\n",
        "        rmse_value = rmse(x)\n",
        "\n",
        "        # Compute LPC\n",
        "        lpc = librosa.lpc(x, order=13)\n",
        "\n",
        "        # Compute MFCCs\n",
        "        mfccs = librosa.feature.mfcc(y=x, sr=sr, n_mfcc=13)\n",
        "\n",
        "        # Flatten MFCCs into a 1D array for simplicity (you may need to adapt this based on your needs)\n",
        "        mfccs_flat = np.ravel(mfccs)\n",
        "\n",
        "        #shimmer\n",
        "        shimmer=sums/(len(peak[0])-1)\n",
        "\n",
        "        #jitter\n",
        "        jitter=sumps/(len(peakf)-1)\n",
        "\n",
        "\n",
        "        # Write the row to the CSV file\n",
        "        row = [file, p, rmse_value, lpc, mfccs_flat, shimmer, jitter, file_emotion]\n",
        "        csv_writer.writerow(row)\n",
        "\n",
        "# Print a message indicating the completion\n",
        "print(f'Features have been written to {csv_file_path}')\n",
        "\n"
      ],
      "metadata": {
        "colab": {
          "base_uri": "https://localhost:8080/",
          "height": 658
        },
        "id": "4UWNEL44oePq",
        "outputId": "6f9ec80a-3e46-4632-8236-b8306673bd3d"
      },
      "execution_count": null,
      "outputs": [
        {
          "output_type": "error",
          "ename": "NameError",
          "evalue": "ignored",
          "traceback": [
            "\u001b[0;31m---------------------------------------------------------------------------\u001b[0m",
            "\u001b[0;31mNameError\u001b[0m                                 Traceback (most recent call last)",
            "\u001b[0;32m<ipython-input-9-a0f910b39734>\u001b[0m in \u001b[0;36m<cell line: 22>\u001b[0;34m()\u001b[0m\n\u001b[1;32m     71\u001b[0m \u001b[0;34m\u001b[0m\u001b[0m\n\u001b[1;32m     72\u001b[0m         \u001b[0;31m#shimmer\u001b[0m\u001b[0;34m\u001b[0m\u001b[0;34m\u001b[0m\u001b[0m\n\u001b[0;32m---> 73\u001b[0;31m         \u001b[0mshimmer\u001b[0m\u001b[0;34m=\u001b[0m\u001b[0msums\u001b[0m\u001b[0;34m/\u001b[0m\u001b[0;34m(\u001b[0m\u001b[0mlen\u001b[0m\u001b[0;34m(\u001b[0m\u001b[0mpeak\u001b[0m\u001b[0;34m[\u001b[0m\u001b[0;36m0\u001b[0m\u001b[0;34m]\u001b[0m\u001b[0;34m)\u001b[0m\u001b[0;34m-\u001b[0m\u001b[0;36m1\u001b[0m\u001b[0;34m)\u001b[0m\u001b[0;34m\u001b[0m\u001b[0;34m\u001b[0m\u001b[0m\n\u001b[0m\u001b[1;32m     74\u001b[0m \u001b[0;34m\u001b[0m\u001b[0m\n\u001b[1;32m     75\u001b[0m         \u001b[0;31m#jitter\u001b[0m\u001b[0;34m\u001b[0m\u001b[0;34m\u001b[0m\u001b[0m\n",
            "\u001b[0;31mNameError\u001b[0m: name 'sums' is not defined"
          ]
        },
        {
          "output_type": "display_data",
          "data": {
            "text/plain": [
              "<Figure size 640x480 with 1 Axes>"
            ],
            "image/png": "[encoded data removed]"
          },
          "metadata": {}
        }
      ]
    },
    {
      "cell_type": "code",
      "source": [
        "crema_directory_list = os.listdir(Crema)\n",
        "\n",
        "file_emotion = []\n",
        "file_path = []\n",
        "\n",
        "for file in crema_directory_list:\n",
        "    # storing file paths\n",
        "    file_path.append(Crema + file)\n",
        "    # storing file emotions\n",
        "    part=file.split('_')\n",
        "    if part[2] == 'SAD':\n",
        "        file_emotion.append('sad')\n",
        "    elif part[2] == 'ANG':\n",
        "        file_emotion.append('angry')\n",
        "    elif part[2] == 'DIS':\n",
        "        file_emotion.append('disgust')\n",
        "    elif part[2] == 'FEA':\n",
        "        file_emotion.append('fear')\n",
        "    elif part[2] == 'HAP':\n",
        "        file_emotion.append('happy')\n",
        "    elif part[2] == 'NEU':\n",
        "        file_emotion.append('neutral')\n",
        "    else:\n",
        "        file_emotion.append('Unknown')\n",
        "\n",
        "emotion_df = pd.DataFrame(file_emotion, columns=['Emotions'])\n",
        "\n",
        "# tạo dataframe cho đường dẫn\n",
        "path_df = pd.DataFrame(file_path, columns=['Path'])\n",
        "Crema_df = pd.concat([emotion_df, path_df], axis=1)\n",
        "Crema_df.head()\n",
        "print(Crema_df.Emotions.value_counts())"
      ],
      "metadata": {
        "id": "Q-H7J5c2awRM"
      },
      "execution_count": null,
      "outputs": []
    },
    {
      "cell_type": "code",
      "source": [
        "import pandas as pd\n",
        "from sklearn.model_selection import cross_val_predict, KFold\n",
        "from sklearn.svm import SVC\n",
        "from sklearn.preprocessing import LabelEncoder, StandardScaler\n",
        "from sklearn.metrics import precision_score, recall_score, f1_score, confusion_matrix\n",
        "\n",
        "# Initialize lists to store evaluation metrics for each fold\n",
        "precision_scores = []\n",
        "recall_scores = []\n",
        "f1_scores = []\n",
        "confusion_matrices = []\n",
        "\n",
        "# Step 1: Load CSV file\n",
        "file_path_1 = '/content/features_final.csv'\n",
        "file_path_2 = '/content/final_features_(1).csv'\n",
        "file_path = [file_path_1,file_path_2]\n",
        "data = pd.read_csv(file_path)\n",
        "# Step 2: Preprocess data if needed\n",
        "\n",
        "# Step 3: Convert string labels to numeric values\n",
        "label_encoder = LabelEncoder()\n",
        "data['Emotion'] = label_encoder.fit_transform(data['Emotion'])\n",
        "\n",
        "# Step 4: Split into features and labels\n",
        "X = data.drop(['File','Emotion'], axis=1)\n",
        "y = data['Emotion']\n",
        "\n",
        "scaler = StandardScaler()\n",
        "X_standardized = scaler.fit_transform(X)\n",
        "\n",
        "# Step 5: Create an SVM model\n",
        "svm_model = SVC()\n",
        "\n",
        "# Step 6: Perform K-fold cross-validation\n",
        "num_folds = 5\n",
        "kfold = KFold(n_splits=num_folds, shuffle=True, random_state=42)\n",
        "\n",
        "# Define variables outside the loop\n",
        "y_true_all = []\n",
        "y_pred_all = []\n",
        "\n",
        "for i, (train_index, test_index) in enumerate(kfold.split(X_standardized)):\n",
        "    # Split the data into training and testing sets for this fold\n",
        "    X_train, X_test = X_standardized[train_index], X_standardized[test_index]\n",
        "    y_train, y_test = y.iloc[train_index], y.iloc[test_index]\n",
        "\n",
        "    # Train the model on the training set\n",
        "    svm_model.fit(X_train, y_train)\n",
        "\n",
        "    # Make predictions on the testing set\n",
        "    y_pred = svm_model.predict(X_test)\n",
        "\n",
        "    # Append true and predicted labels for computing overall metrics\n",
        "    y_true_all.extend(y_test)\n",
        "    y_pred_all.extend(y_pred)\n",
        "\n",
        "    # Compute evaluation metrics for this fold\n",
        "    precision = precision_score(y_test, y_pred, average='weighted')\n",
        "    recall = recall_score(y_test, y_pred, average='weighted')\n",
        "    f1 = f1_score(y_test, y_pred, average='weighted')\n",
        "    confusion_mat = confusion_matrix(y_test, y_pred)\n",
        "\n",
        "    # Append the metrics to the lists\n",
        "    precision_scores.append(precision)\n",
        "    recall_scores.append(recall)\n",
        "    f1_scores.append(f1)\n",
        "    confusion_matrices.append(confusion_mat)\n",
        "\n",
        "    # Print the evaluation metrics for each fold\n",
        "    print(f'\\nFold {i + 1} Metrics:')\n",
        "    print(f'Precision = {precision:.4f}')\n",
        "    print(f'Recall = {recall:.4f}')\n",
        "    print(f'F1 Score = {f1:.4f}')\n",
        "    print(f'Confusion Matrix:\\n{confusion_mat}')\n",
        "\n",
        "# Compute overall metrics using all folds\n",
        "overall_precision = precision_score(y_true_all, y_pred_all, average='weighted')\n",
        "overall_recall = recall_score(y_true_all, y_pred_all, average='weighted')\n",
        "overall_f1 = f1_score(y_true_all, y_pred_all, average='weighted')\n",
        "overall_confusion_mat = confusion_matrix(y_true_all, y_pred_all)\n",
        "\n",
        "# Print overall metrics\n",
        "print('\\nOverall Metrics:')\n",
        "print(f'Overall Precision = {overall_precision:.4f}')\n",
        "print(f'Overall Recall = {overall_recall:.4f}')\n",
        "print(f'Overall F1 Score = {overall_f1:.4f}')\n",
        "print(f'Overall Confusion Matrix:\\n{overall_confusion_mat}')"
      ],
      "metadata": {
        "colab": {
          "base_uri": "https://localhost:8080/",
          "height": 390
        },
        "id": "0CwfxRDFlkfx",
        "outputId": "f419cc89-1042-4971-f397-b5f30c4450b0"
      },
      "execution_count": null,
      "outputs": [
        {
          "output_type": "error",
          "ename": "ValueError",
          "evalue": "ignored",
          "traceback": [
            "\u001b[0;31m---------------------------------------------------------------------------\u001b[0m",
            "\u001b[0;31mValueError\u001b[0m                                Traceback (most recent call last)",
            "\u001b[0;32m<ipython-input-6-9c9a96b0d446>\u001b[0m in \u001b[0;36m<cell line: 17>\u001b[0;34m()\u001b[0m\n\u001b[1;32m     15\u001b[0m \u001b[0mfile_path_2\u001b[0m \u001b[0;34m=\u001b[0m \u001b[0;34m'/content/final_features_(1).csv'\u001b[0m\u001b[0;34m\u001b[0m\u001b[0;34m\u001b[0m\u001b[0m\n\u001b[1;32m     16\u001b[0m \u001b[0mfile_path\u001b[0m \u001b[0;34m=\u001b[0m \u001b[0;34m[\u001b[0m\u001b[0mfile_path_1\u001b[0m\u001b[0;34m,\u001b[0m\u001b[0mfile_path_2\u001b[0m\u001b[0;34m]\u001b[0m\u001b[0;34m\u001b[0m\u001b[0;34m\u001b[0m\u001b[0m\n\u001b[0;32m---> 17\u001b[0;31m \u001b[0mdata\u001b[0m \u001b[0;34m=\u001b[0m \u001b[0mpd\u001b[0m\u001b[0;34m.\u001b[0m\u001b[0mread_csv\u001b[0m\u001b[0;34m(\u001b[0m\u001b[0mfile_path\u001b[0m\u001b[0;34m)\u001b[0m\u001b[0;34m\u001b[0m\u001b[0;34m\u001b[0m\u001b[0m\n\u001b[0m\u001b[1;32m     18\u001b[0m \u001b[0;31m# Step 2: Preprocess data if needed\u001b[0m\u001b[0;34m\u001b[0m\u001b[0;34m\u001b[0m\u001b[0m\n\u001b[1;32m     19\u001b[0m \u001b[0;34m\u001b[0m\u001b[0m\n",
            "\u001b[0;32m/usr/local/lib/python3.10/dist-packages/pandas/util/_decorators.py\u001b[0m in \u001b[0;36mwrapper\u001b[0;34m(*args, **kwargs)\u001b[0m\n\u001b[1;32m    209\u001b[0m                 \u001b[0;32melse\u001b[0m\u001b[0;34m:\u001b[0m\u001b[0;34m\u001b[0m\u001b[0;34m\u001b[0m\u001b[0m\n\u001b[1;32m    210\u001b[0m                     \u001b[0mkwargs\u001b[0m\u001b[0;34m[\u001b[0m\u001b[0mnew_arg_name\u001b[0m\u001b[0;34m]\u001b[0m \u001b[0;34m=\u001b[0m \u001b[0mnew_arg_value\u001b[0m\u001b[0;34m\u001b[0m\u001b[0;34m\u001b[0m\u001b[0m\n\u001b[0;32m--> 211\u001b[0;31m             \u001b[0;32mreturn\u001b[0m \u001b[0mfunc\u001b[0m\u001b[0;34m(\u001b[0m\u001b[0;34m*\u001b[0m\u001b[0margs\u001b[0m\u001b[0;34m,\u001b[0m \u001b[0;34m**\u001b[0m\u001b[0mkwargs\u001b[0m\u001b[0;34m)\u001b[0m\u001b[0;34m\u001b[0m\u001b[0;34m\u001b[0m\u001b[0m\n\u001b[0m\u001b[1;32m    212\u001b[0m \u001b[0;34m\u001b[0m\u001b[0m\n\u001b[1;32m    213\u001b[0m         \u001b[0;32mreturn\u001b[0m \u001b[0mcast\u001b[0m\u001b[0;34m(\u001b[0m\u001b[0mF\u001b[0m\u001b[0;34m,\u001b[0m \u001b[0mwrapper\u001b[0m\u001b[0;34m)\u001b[0m\u001b[0;34m\u001b[0m\u001b[0;34m\u001b[0m\u001b[0m\n",
            "\u001b[0;32m/usr/local/lib/python3.10/dist-packages/pandas/util/_decorators.py\u001b[0m in \u001b[0;36mwrapper\u001b[0;34m(*args, **kwargs)\u001b[0m\n\u001b[1;32m    329\u001b[0m                     \u001b[0mstacklevel\u001b[0m\u001b[0;34m=\u001b[0m\u001b[0mfind_stack_level\u001b[0m\u001b[0;34m(\u001b[0m\u001b[0;34m)\u001b[0m\u001b[0;34m,\u001b[0m\u001b[0;34m\u001b[0m\u001b[0;34m\u001b[0m\u001b[0m\n\u001b[1;32m    330\u001b[0m                 )\n\u001b[0;32m--> 331\u001b[0;31m             \u001b[0;32mreturn\u001b[0m \u001b[0mfunc\u001b[0m\u001b[0;34m(\u001b[0m\u001b[0;34m*\u001b[0m\u001b[0margs\u001b[0m\u001b[0;34m,\u001b[0m \u001b[0;34m**\u001b[0m\u001b[0mkwargs\u001b[0m\u001b[0;34m)\u001b[0m\u001b[0;34m\u001b[0m\u001b[0;34m\u001b[0m\u001b[0m\n\u001b[0m\u001b[1;32m    332\u001b[0m \u001b[0;34m\u001b[0m\u001b[0m\n\u001b[1;32m    333\u001b[0m         \u001b[0;31m# error: \"Callable[[VarArg(Any), KwArg(Any)], Any]\" has no\u001b[0m\u001b[0;34m\u001b[0m\u001b[0;34m\u001b[0m\u001b[0m\n",
            "\u001b[0;32m/usr/local/lib/python3.10/dist-packages/pandas/io/parsers/readers.py\u001b[0m in \u001b[0;36mread_csv\u001b[0;34m(filepath_or_buffer, sep, delimiter, header, names, index_col, usecols, squeeze, prefix, mangle_dupe_cols, dtype, engine, converters, true_values, false_values, skipinitialspace, skiprows, skipfooter, nrows, na_values, keep_default_na, na_filter, verbose, skip_blank_lines, parse_dates, infer_datetime_format, keep_date_col, date_parser, dayfirst, cache_dates, iterator, chunksize, compression, thousands, decimal, lineterminator, quotechar, quoting, doublequote, escapechar, comment, encoding, encoding_errors, dialect, error_bad_lines, warn_bad_lines, on_bad_lines, delim_whitespace, low_memory, memory_map, float_precision, storage_options)\u001b[0m\n\u001b[1;32m    948\u001b[0m     \u001b[0mkwds\u001b[0m\u001b[0;34m.\u001b[0m\u001b[0mupdate\u001b[0m\u001b[0;34m(\u001b[0m\u001b[0mkwds_defaults\u001b[0m\u001b[0;34m)\u001b[0m\u001b[0;34m\u001b[0m\u001b[0;34m\u001b[0m\u001b[0m\n\u001b[1;32m    949\u001b[0m \u001b[0;34m\u001b[0m\u001b[0m\n\u001b[0;32m--> 950\u001b[0;31m     \u001b[0;32mreturn\u001b[0m \u001b[0m_read\u001b[0m\u001b[0;34m(\u001b[0m\u001b[0mfilepath_or_buffer\u001b[0m\u001b[0;34m,\u001b[0m \u001b[0mkwds\u001b[0m\u001b[0;34m)\u001b[0m\u001b[0;34m\u001b[0m\u001b[0;34m\u001b[0m\u001b[0m\n\u001b[0m\u001b[1;32m    951\u001b[0m \u001b[0;34m\u001b[0m\u001b[0m\n\u001b[1;32m    952\u001b[0m \u001b[0;34m\u001b[0m\u001b[0m\n",
            "\u001b[0;32m/usr/local/lib/python3.10/dist-packages/pandas/io/parsers/readers.py\u001b[0m in \u001b[0;36m_read\u001b[0;34m(filepath_or_buffer, kwds)\u001b[0m\n\u001b[1;32m    603\u001b[0m \u001b[0;34m\u001b[0m\u001b[0m\n\u001b[1;32m    604\u001b[0m     \u001b[0;31m# Create the parser.\u001b[0m\u001b[0;34m\u001b[0m\u001b[0;34m\u001b[0m\u001b[0m\n\u001b[0;32m--> 605\u001b[0;31m     \u001b[0mparser\u001b[0m \u001b[0;34m=\u001b[0m \u001b[0mTextFileReader\u001b[0m\u001b[0;34m(\u001b[0m\u001b[0mfilepath_or_buffer\u001b[0m\u001b[0;34m,\u001b[0m \u001b[0;34m**\u001b[0m\u001b[0mkwds\u001b[0m\u001b[0;34m)\u001b[0m\u001b[0;34m\u001b[0m\u001b[0;34m\u001b[0m\u001b[0m\n\u001b[0m\u001b[1;32m    606\u001b[0m \u001b[0;34m\u001b[0m\u001b[0m\n\u001b[1;32m    607\u001b[0m     \u001b[0;32mif\u001b[0m \u001b[0mchunksize\u001b[0m \u001b[0;32mor\u001b[0m \u001b[0miterator\u001b[0m\u001b[0;34m:\u001b[0m\u001b[0;34m\u001b[0m\u001b[0;34m\u001b[0m\u001b[0m\n",
            "\u001b[0;32m/usr/local/lib/python3.10/dist-packages/pandas/io/parsers/readers.py\u001b[0m in \u001b[0;36m__init__\u001b[0;34m(self, f, engine, **kwds)\u001b[0m\n\u001b[1;32m   1440\u001b[0m \u001b[0;34m\u001b[0m\u001b[0m\n\u001b[1;32m   1441\u001b[0m         \u001b[0mself\u001b[0m\u001b[0;34m.\u001b[0m\u001b[0mhandles\u001b[0m\u001b[0;34m:\u001b[0m \u001b[0mIOHandles\u001b[0m \u001b[0;34m|\u001b[0m \u001b[0;32mNone\u001b[0m \u001b[0;34m=\u001b[0m \u001b[0;32mNone\u001b[0m\u001b[0;34m\u001b[0m\u001b[0;34m\u001b[0m\u001b[0m\n\u001b[0;32m-> 1442\u001b[0;31m         \u001b[0mself\u001b[0m\u001b[0;34m.\u001b[0m\u001b[0m_engine\u001b[0m \u001b[0;34m=\u001b[0m \u001b[0mself\u001b[0m\u001b[0;34m.\u001b[0m\u001b[0m_make_engine\u001b[0m\u001b[0;34m(\u001b[0m\u001b[0mf\u001b[0m\u001b[0;34m,\u001b[0m \u001b[0mself\u001b[0m\u001b[0;34m.\u001b[0m\u001b[0mengine\u001b[0m\u001b[0;34m)\u001b[0m\u001b[0;34m\u001b[0m\u001b[0;34m\u001b[0m\u001b[0m\n\u001b[0m\u001b[1;32m   1443\u001b[0m \u001b[0;34m\u001b[0m\u001b[0m\n\u001b[1;32m   1444\u001b[0m     \u001b[0;32mdef\u001b[0m \u001b[0mclose\u001b[0m\u001b[0;34m(\u001b[0m\u001b[0mself\u001b[0m\u001b[0;34m)\u001b[0m \u001b[0;34m->\u001b[0m \u001b[0;32mNone\u001b[0m\u001b[0;34m:\u001b[0m\u001b[0;34m\u001b[0m\u001b[0;34m\u001b[0m\u001b[0m\n",
            "\u001b[0;32m/usr/local/lib/python3.10/dist-packages/pandas/io/parsers/readers.py\u001b[0m in \u001b[0;36m_make_engine\u001b[0;34m(self, f, engine)\u001b[0m\n\u001b[1;32m   1748\u001b[0m         \u001b[0;32melif\u001b[0m \u001b[0mengine\u001b[0m \u001b[0;34m!=\u001b[0m \u001b[0;34m\"python\"\u001b[0m\u001b[0;34m:\u001b[0m\u001b[0;34m\u001b[0m\u001b[0;34m\u001b[0m\u001b[0m\n\u001b[1;32m   1749\u001b[0m             \u001b[0mmsg\u001b[0m \u001b[0;34m=\u001b[0m \u001b[0;34mf\"Invalid file path or buffer object type: {type(f)}\"\u001b[0m\u001b[0;34m\u001b[0m\u001b[0;34m\u001b[0m\u001b[0m\n\u001b[0;32m-> 1750\u001b[0;31m             \u001b[0;32mraise\u001b[0m \u001b[0mValueError\u001b[0m\u001b[0;34m(\u001b[0m\u001b[0mmsg\u001b[0m\u001b[0;34m)\u001b[0m\u001b[0;34m\u001b[0m\u001b[0;34m\u001b[0m\u001b[0m\n\u001b[0m\u001b[1;32m   1751\u001b[0m \u001b[0;34m\u001b[0m\u001b[0m\n\u001b[1;32m   1752\u001b[0m         \u001b[0;32mtry\u001b[0m\u001b[0;34m:\u001b[0m\u001b[0;34m\u001b[0m\u001b[0;34m\u001b[0m\u001b[0m\n",
            "\u001b[0;31mValueError\u001b[0m: Invalid file path or buffer object type: <class 'list'>"
          ]
        }
      ]
    },
    {
      "cell_type": "code",
      "source": [
        "data\n"
      ],
      "metadata": {
        "colab": {
          "base_uri": "https://localhost:8080/",
          "height": 733
        },
        "id": "7niWoC64nfRf",
        "outputId": "2fc3e169-b1d0-4722-fe8d-d1b7eb5e760d"
      },
      "execution_count": null,
      "outputs": [
        {
          "output_type": "execute_result",
          "data": {
            "text/plain": [
              "                     File       Pitch        RMSE  LPC_1     LPC_2     LPC_3  \\\n",
              "0     1001_DFA_ANG_XX.wav  152.380952  209.266340    1.0 -3.898185  8.324219   \n",
              "1     1001_DFA_DIS_XX.wav  155.339806   25.663290    1.0 -3.638125  7.463284   \n",
              "2     1001_DFA_FEA_XX.wav   64.257028  281.097630    1.0 -3.629940  7.349434   \n",
              "3     1001_DFA_HAP_XX.wav  153.846154  170.690050    1.0 -3.763802  7.894371   \n",
              "4     1001_DFA_NEU_XX.wav  121.212121   41.776196    1.0 -3.841575  8.198309   \n",
              "...                   ...         ...         ...    ...       ...       ...   \n",
              "6182  1076_MTI_ANG_XX.wav  164.948454   47.695587    1.0 -3.854195  8.371014   \n",
              "6183  1076_MTI_DIS_XX.wav  166.666667   12.226431    1.0 -3.466044  6.832426   \n",
              "6184  1076_MTI_FEA_XX.wav  195.121951   22.700330    1.0 -3.464901  6.820696   \n",
              "6185  1076_MTI_HAP_XX.wav  250.000000   31.617247    1.0 -3.803872  7.893882   \n",
              "6186  1076_MTI_NEU_XX.wav  197.530864   15.004560    1.0 -3.742116  7.776084   \n",
              "\n",
              "          LPC_4      LPC_5      LPC_6      LPC_7  ...     MFCC_8     MFCC_9  \\\n",
              "0    -13.408641  18.219736 -21.557777  22.170070  ...  -2.982337 -11.125525   \n",
              "1    -11.862913  16.088005 -19.017500  19.544632  ...   7.696455 -11.807550   \n",
              "2    -11.626152  15.788427 -18.640438  19.123080  ...  -0.038774  -7.281857   \n",
              "3    -12.692317  17.324692 -20.566866  21.127888  ...   0.222240 -10.304431   \n",
              "4    -13.263777  18.122559 -21.648933  22.515097  ...  -2.361498 -10.503442   \n",
              "...         ...        ...        ...        ...  ...        ...        ...   \n",
              "6182 -13.867953  19.077396 -22.660717  23.422329  ...   4.337343  -9.309599   \n",
              "6183 -11.066449  15.224237 -17.920988  18.502560  ...  10.040895 -12.943854   \n",
              "6184 -11.076640  15.247892 -17.927084  18.495165  ...   9.219095 -10.917192   \n",
              "6185 -12.851950  17.783138 -21.089960  21.739090  ...  10.535565 -13.758583   \n",
              "6186 -12.529020  17.069921 -20.185402  20.737917  ...   8.519915 -14.536085   \n",
              "\n",
              "       MFCC_10    MFCC_11   MFCC_12   MFCC_13  Intensity   Shimmer  \\\n",
              "0    -2.109577 -11.664308 -1.972009 -3.127181  21.249546  0.010453   \n",
              "1    -1.607505  -9.029036 -5.325351 -0.126413  30.453890  0.009139   \n",
              "2    -3.811908 -12.299890 -4.942387 -3.586811  18.413702  0.011969   \n",
              "3    -6.165375 -14.998136 -2.926191 -2.536832  21.481194  0.012659   \n",
              "4    -4.843659 -10.041851 -0.964123 -3.805397  27.888028  0.010895   \n",
              "...        ...        ...       ...       ...        ...       ...   \n",
              "6182 -0.789538  -2.036056 -2.124747  2.438604  29.264791  0.011877   \n",
              "6183  2.400449  -2.248803 -2.723793  6.491437  36.678125  0.008142   \n",
              "6184 -0.098593  -3.458618 -4.455704  6.369731  33.238499  0.009877   \n",
              "6185 -1.392124  -4.660726 -5.381078  5.889987  31.820215  0.012170   \n",
              "6186  0.443216  -2.979065 -1.028876  7.414658  35.317889  0.012160   \n",
              "\n",
              "            Jitter  Emotion  \n",
              "0    -9.979865e-23        3  \n",
              "1     3.997685e-23        3  \n",
              "2    -2.289907e-23        3  \n",
              "3    -6.247866e-23        3  \n",
              "4    -4.758534e-23        3  \n",
              "...            ...      ...  \n",
              "6182  5.216409e-23        3  \n",
              "6183  4.010422e-24        3  \n",
              "6184  5.748188e-23        3  \n",
              "6185 -1.212651e-23        3  \n",
              "6186 -2.820525e-23        3  \n",
              "\n",
              "[6187 rows x 33 columns]"
            ],
            "text/html": [
              "\n",
              "  <div id=\"df-17880449-dc3a-4605-a13b-a95858acad90\" class=\"colab-df-container\">\n",
              "    <div>\n",
              "<style scoped>\n",
              "    .dataframe tbody tr th:only-of-type {\n",
              "        vertical-align: middle;\n",
              "    }\n",
              "\n",
              "    .dataframe tbody tr th {\n",
              "        vertical-align: top;\n",
              "    }\n",
              "\n",
              "    .dataframe thead th {\n",
              "        text-align: right;\n",
              "    }\n",
              "</style>\n",
              "<table border=\"1\" class=\"dataframe\">\n",
              "  <thead>\n",
              "    <tr style=\"text-align: right;\">\n",
              "      <th></th>\n",
              "      <th>File</th>\n",
              "      <th>Pitch</th>\n",
              "      <th>RMSE</th>\n",
              "      <th>LPC_1</th>\n",
              "      <th>LPC_2</th>\n",
              "      <th>LPC_3</th>\n",
              "      <th>LPC_4</th>\n",
              "      <th>LPC_5</th>\n",
              "      <th>LPC_6</th>\n",
              "      <th>LPC_7</th>\n",
              "      <th>...</th>\n",
              "      <th>MFCC_8</th>\n",
              "      <th>MFCC_9</th>\n",
              "      <th>MFCC_10</th>\n",
              "      <th>MFCC_11</th>\n",
              "      <th>MFCC_12</th>\n",
              "      <th>MFCC_13</th>\n",
              "      <th>Intensity</th>\n",
              "      <th>Shimmer</th>\n",
              "      <th>Jitter</th>\n",
              "      <th>Emotion</th>\n",
              "    </tr>\n",
              "  </thead>\n",
              "  <tbody>\n",
              "    <tr>\n",
              "      <th>0</th>\n",
              "      <td>1001_DFA_ANG_XX.wav</td>\n",
              "      <td>152.380952</td>\n",
              "      <td>209.266340</td>\n",
              "      <td>1.0</td>\n",
              "      <td>-3.898185</td>\n",
              "      <td>8.324219</td>\n",
              "      <td>-13.408641</td>\n",
              "      <td>18.219736</td>\n",
              "      <td>-21.557777</td>\n",
              "      <td>22.170070</td>\n",
              "      <td>...</td>\n",
              "      <td>-2.982337</td>\n",
              "      <td>-11.125525</td>\n",
              "      <td>-2.109577</td>\n",
              "      <td>-11.664308</td>\n",
              "      <td>-1.972009</td>\n",
              "      <td>-3.127181</td>\n",
              "      <td>21.249546</td>\n",
              "      <td>0.010453</td>\n",
              "      <td>-9.979865e-23</td>\n",
              "      <td>3</td>\n",
              "    </tr>\n",
              "    <tr>\n",
              "      <th>1</th>\n",
              "      <td>1001_DFA_DIS_XX.wav</td>\n",
              "      <td>155.339806</td>\n",
              "      <td>25.663290</td>\n",
              "      <td>1.0</td>\n",
              "      <td>-3.638125</td>\n",
              "      <td>7.463284</td>\n",
              "      <td>-11.862913</td>\n",
              "      <td>16.088005</td>\n",
              "      <td>-19.017500</td>\n",
              "      <td>19.544632</td>\n",
              "      <td>...</td>\n",
              "      <td>7.696455</td>\n",
              "      <td>-11.807550</td>\n",
              "      <td>-1.607505</td>\n",
              "      <td>-9.029036</td>\n",
              "      <td>-5.325351</td>\n",
              "      <td>-0.126413</td>\n",
              "      <td>30.453890</td>\n",
              "      <td>0.009139</td>\n",
              "      <td>3.997685e-23</td>\n",
              "      <td>3</td>\n",
              "    </tr>\n",
              "    <tr>\n",
              "      <th>2</th>\n",
              "      <td>1001_DFA_FEA_XX.wav</td>\n",
              "      <td>64.257028</td>\n",
              "      <td>281.097630</td>\n",
              "      <td>1.0</td>\n",
              "      <td>-3.629940</td>\n",
              "      <td>7.349434</td>\n",
              "      <td>-11.626152</td>\n",
              "      <td>15.788427</td>\n",
              "      <td>-18.640438</td>\n",
              "      <td>19.123080</td>\n",
              "      <td>...</td>\n",
              "      <td>-0.038774</td>\n",
              "      <td>-7.281857</td>\n",
              "      <td>-3.811908</td>\n",
              "      <td>-12.299890</td>\n",
              "      <td>-4.942387</td>\n",
              "      <td>-3.586811</td>\n",
              "      <td>18.413702</td>\n",
              "      <td>0.011969</td>\n",
              "      <td>-2.289907e-23</td>\n",
              "      <td>3</td>\n",
              "    </tr>\n",
              "    <tr>\n",
              "      <th>3</th>\n",
              "      <td>1001_DFA_HAP_XX.wav</td>\n",
              "      <td>153.846154</td>\n",
              "      <td>170.690050</td>\n",
              "      <td>1.0</td>\n",
              "      <td>-3.763802</td>\n",
              "      <td>7.894371</td>\n",
              "      <td>-12.692317</td>\n",
              "      <td>17.324692</td>\n",
              "      <td>-20.566866</td>\n",
              "      <td>21.127888</td>\n",
              "      <td>...</td>\n",
              "      <td>0.222240</td>\n",
              "      <td>-10.304431</td>\n",
              "      <td>-6.165375</td>\n",
              "      <td>-14.998136</td>\n",
              "      <td>-2.926191</td>\n",
              "      <td>-2.536832</td>\n",
              "      <td>21.481194</td>\n",
              "      <td>0.012659</td>\n",
              "      <td>-6.247866e-23</td>\n",
              "      <td>3</td>\n",
              "    </tr>\n",
              "    <tr>\n",
              "      <th>4</th>\n",
              "      <td>1001_DFA_NEU_XX.wav</td>\n",
              "      <td>121.212121</td>\n",
              "      <td>41.776196</td>\n",
              "      <td>1.0</td>\n",
              "      <td>-3.841575</td>\n",
              "      <td>8.198309</td>\n",
              "      <td>-13.263777</td>\n",
              "      <td>18.122559</td>\n",
              "      <td>-21.648933</td>\n",
              "      <td>22.515097</td>\n",
              "      <td>...</td>\n",
              "      <td>-2.361498</td>\n",
              "      <td>-10.503442</td>\n",
              "      <td>-4.843659</td>\n",
              "      <td>-10.041851</td>\n",
              "      <td>-0.964123</td>\n",
              "      <td>-3.805397</td>\n",
              "      <td>27.888028</td>\n",
              "      <td>0.010895</td>\n",
              "      <td>-4.758534e-23</td>\n",
              "      <td>3</td>\n",
              "    </tr>\n",
              "    <tr>\n",
              "      <th>...</th>\n",
              "      <td>...</td>\n",
              "      <td>...</td>\n",
              "      <td>...</td>\n",
              "      <td>...</td>\n",
              "      <td>...</td>\n",
              "      <td>...</td>\n",
              "      <td>...</td>\n",
              "      <td>...</td>\n",
              "      <td>...</td>\n",
              "      <td>...</td>\n",
              "      <td>...</td>\n",
              "      <td>...</td>\n",
              "      <td>...</td>\n",
              "      <td>...</td>\n",
              "      <td>...</td>\n",
              "      <td>...</td>\n",
              "      <td>...</td>\n",
              "      <td>...</td>\n",
              "      <td>...</td>\n",
              "      <td>...</td>\n",
              "      <td>...</td>\n",
              "    </tr>\n",
              "    <tr>\n",
              "      <th>6182</th>\n",
              "      <td>1076_MTI_ANG_XX.wav</td>\n",
              "      <td>164.948454</td>\n",
              "      <td>47.695587</td>\n",
              "      <td>1.0</td>\n",
              "      <td>-3.854195</td>\n",
              "      <td>8.371014</td>\n",
              "      <td>-13.867953</td>\n",
              "      <td>19.077396</td>\n",
              "      <td>-22.660717</td>\n",
              "      <td>23.422329</td>\n",
              "      <td>...</td>\n",
              "      <td>4.337343</td>\n",
              "      <td>-9.309599</td>\n",
              "      <td>-0.789538</td>\n",
              "      <td>-2.036056</td>\n",
              "      <td>-2.124747</td>\n",
              "      <td>2.438604</td>\n",
              "      <td>29.264791</td>\n",
              "      <td>0.011877</td>\n",
              "      <td>5.216409e-23</td>\n",
              "      <td>3</td>\n",
              "    </tr>\n",
              "    <tr>\n",
              "      <th>6183</th>\n",
              "      <td>1076_MTI_DIS_XX.wav</td>\n",
              "      <td>166.666667</td>\n",
              "      <td>12.226431</td>\n",
              "      <td>1.0</td>\n",
              "      <td>-3.466044</td>\n",
              "      <td>6.832426</td>\n",
              "      <td>-11.066449</td>\n",
              "      <td>15.224237</td>\n",
              "      <td>-17.920988</td>\n",
              "      <td>18.502560</td>\n",
              "      <td>...</td>\n",
              "      <td>10.040895</td>\n",
              "      <td>-12.943854</td>\n",
              "      <td>2.400449</td>\n",
              "      <td>-2.248803</td>\n",
              "      <td>-2.723793</td>\n",
              "      <td>6.491437</td>\n",
              "      <td>36.678125</td>\n",
              "      <td>0.008142</td>\n",
              "      <td>4.010422e-24</td>\n",
              "      <td>3</td>\n",
              "    </tr>\n",
              "    <tr>\n",
              "      <th>6184</th>\n",
              "      <td>1076_MTI_FEA_XX.wav</td>\n",
              "      <td>195.121951</td>\n",
              "      <td>22.700330</td>\n",
              "      <td>1.0</td>\n",
              "      <td>-3.464901</td>\n",
              "      <td>6.820696</td>\n",
              "      <td>-11.076640</td>\n",
              "      <td>15.247892</td>\n",
              "      <td>-17.927084</td>\n",
              "      <td>18.495165</td>\n",
              "      <td>...</td>\n",
              "      <td>9.219095</td>\n",
              "      <td>-10.917192</td>\n",
              "      <td>-0.098593</td>\n",
              "      <td>-3.458618</td>\n",
              "      <td>-4.455704</td>\n",
              "      <td>6.369731</td>\n",
              "      <td>33.238499</td>\n",
              "      <td>0.009877</td>\n",
              "      <td>5.748188e-23</td>\n",
              "      <td>3</td>\n",
              "    </tr>\n",
              "    <tr>\n",
              "      <th>6185</th>\n",
              "      <td>1076_MTI_HAP_XX.wav</td>\n",
              "      <td>250.000000</td>\n",
              "      <td>31.617247</td>\n",
              "      <td>1.0</td>\n",
              "      <td>-3.803872</td>\n",
              "      <td>7.893882</td>\n",
              "      <td>-12.851950</td>\n",
              "      <td>17.783138</td>\n",
              "      <td>-21.089960</td>\n",
              "      <td>21.739090</td>\n",
              "      <td>...</td>\n",
              "      <td>10.535565</td>\n",
              "      <td>-13.758583</td>\n",
              "      <td>-1.392124</td>\n",
              "      <td>-4.660726</td>\n",
              "      <td>-5.381078</td>\n",
              "      <td>5.889987</td>\n",
              "      <td>31.820215</td>\n",
              "      <td>0.012170</td>\n",
              "      <td>-1.212651e-23</td>\n",
              "      <td>3</td>\n",
              "    </tr>\n",
              "    <tr>\n",
              "      <th>6186</th>\n",
              "      <td>1076_MTI_NEU_XX.wav</td>\n",
              "      <td>197.530864</td>\n",
              "      <td>15.004560</td>\n",
              "      <td>1.0</td>\n",
              "      <td>-3.742116</td>\n",
              "      <td>7.776084</td>\n",
              "      <td>-12.529020</td>\n",
              "      <td>17.069921</td>\n",
              "      <td>-20.185402</td>\n",
              "      <td>20.737917</td>\n",
              "      <td>...</td>\n",
              "      <td>8.519915</td>\n",
              "      <td>-14.536085</td>\n",
              "      <td>0.443216</td>\n",
              "      <td>-2.979065</td>\n",
              "      <td>-1.028876</td>\n",
              "      <td>7.414658</td>\n",
              "      <td>35.317889</td>\n",
              "      <td>0.012160</td>\n",
              "      <td>-2.820525e-23</td>\n",
              "      <td>3</td>\n",
              "    </tr>\n",
              "  </tbody>\n",
              "</table>\n",
              "<p>6187 rows × 33 columns</p>\n",
              "</div>\n",
              "    <div class=\"colab-df-buttons\">\n",
              "\n",
              "  <div class=\"colab-df-container\">\n",
              "    <button class=\"colab-df-convert\" onclick=\"convertToInteractive('df-17880449-dc3a-4605-a13b-a95858acad90')\"\n",
              "            title=\"Convert this dataframe to an interactive table.\"\n",
              "            style=\"display:none;\">\n",
              "\n",
              "  <svg xmlns=\"http://www.w3.org/2000/svg\" height=\"24px\" viewBox=\"0 -960 960 960\">\n",
              "    <path d=\"M120-120v-720h720v720H120Zm60-500h600v-160H180v160Zm220 220h160v-160H400v160Zm0 220h160v-160H400v160ZM180-400h160v-160H180v160Zm440 0h160v-160H620v160ZM180-180h160v-160H180v160Zm440 0h160v-160H620v160Z\"/>\n",
              "  </svg>\n",
              "    </button>\n",
              "\n",
              "  <style>\n",
              "    .colab-df-container {\n",
              "      display:flex;\n",
              "      gap: 12px;\n",
              "    }\n",
              "\n",
              "    .colab-df-convert {\n",
              "      background-color: #E8F0FE;\n",
              "      border: none;\n",
              "      border-radius: 50%;\n",
              "      cursor: pointer;\n",
              "      display: none;\n",
              "      fill: #1967D2;\n",
              "      height: 32px;\n",
              "      padding: 0 0 0 0;\n",
              "      width: 32px;\n",
              "    }\n",
              "\n",
              "    .colab-df-convert:hover {\n",
              "      background-color: #E2EBFA;\n",
              "      box-shadow: 0px 1px 2px rgba(60, 64, 67, 0.3), 0px 1px 3px 1px rgba(60, 64, 67, 0.15);\n",
              "      fill: #174EA6;\n",
              "    }\n",
              "\n",
              "    .colab-df-buttons div {\n",
              "      margin-bottom: 4px;\n",
              "    }\n",
              "\n",
              "    [theme=dark] .colab-df-convert {\n",
              "      background-color: #3B4455;\n",
              "      fill: #D2E3FC;\n",
              "    }\n",
              "\n",
              "    [theme=dark] .colab-df-convert:hover {\n",
              "      background-color: #434B5C;\n",
              "      box-shadow: 0px 1px 3px 1px rgba(0, 0, 0, 0.15);\n",
              "      filter: drop-shadow(0px 1px 2px rgba(0, 0, 0, 0.3));\n",
              "      fill: #FFFFFF;\n",
              "    }\n",
              "  </style>\n",
              "\n",
              "    <script>\n",
              "      const buttonEl =\n",
              "        document.querySelector('#df-17880449-dc3a-4605-a13b-a95858acad90 button.colab-df-convert');\n",
              "      buttonEl.style.display =\n",
              "        google.colab.kernel.accessAllowed ? 'block' : 'none';\n",
              "\n",
              "      async function convertToInteractive(key) {\n",
              "        const element = document.querySelector('#df-17880449-dc3a-4605-a13b-a95858acad90');\n",
              "        const dataTable =\n",
              "          await google.colab.kernel.invokeFunction('convertToInteractive',\n",
              "                                                    [key], {});\n",
              "        if (!dataTable) return;\n",
              "\n",
              "        const docLinkHtml = 'Like what you see? Visit the ' +\n",
              "          '<a target=\"_blank\" href=https://colab.research.google.com/notebooks/data_table.ipynb>data table notebook</a>'\n",
              "          + ' to learn more about interactive tables.';\n",
              "        element.innerHTML = '';\n",
              "        dataTable['output_type'] = 'display_data';\n",
              "        await google.colab.output.renderOutput(dataTable, element);\n",
              "        const docLink = document.createElement('div');\n",
              "        docLink.innerHTML = docLinkHtml;\n",
              "        element.appendChild(docLink);\n",
              "      }\n",
              "    </script>\n",
              "  </div>\n",
              "\n",
              "\n",
              "<div id=\"df-f63e1f2f-8189-4316-9e73-c6c5ea339281\">\n",
              "  <button class=\"colab-df-quickchart\" onclick=\"quickchart('df-f63e1f2f-8189-4316-9e73-c6c5ea339281')\"\n",
              "            title=\"Suggest charts\"\n",
              "            style=\"display:none;\">\n",
              "\n",
              "<svg xmlns=\"http://www.w3.org/2000/svg\" height=\"24px\"viewBox=\"0 0 24 24\"\n",
              "     width=\"24px\">\n",
              "    <g>\n",
              "        <path d=\"M19 3H5c-1.1 0-2 .9-2 2v14c0 1.1.9 2 2 2h14c1.1 0 2-.9 2-2V5c0-1.1-.9-2-2-2zM9 17H7v-7h2v7zm4 0h-2V7h2v10zm4 0h-2v-4h2v4z\"/>\n",
              "    </g>\n",
              "</svg>\n",
              "  </button>\n",
              "\n",
              "<style>\n",
              "  .colab-df-quickchart {\n",
              "      --bg-color: #E8F0FE;\n",
              "      --fill-color: #1967D2;\n",
              "      --hover-bg-color: #E2EBFA;\n",
              "      --hover-fill-color: #174EA6;\n",
              "      --disabled-fill-color: #AAA;\n",
              "      --disabled-bg-color: #DDD;\n",
              "  }\n",
              "\n",
              "  [theme=dark] .colab-df-quickchart {\n",
              "      --bg-color: #3B4455;\n",
              "      --fill-color: #D2E3FC;\n",
              "      --hover-bg-color: #434B5C;\n",
              "      --hover-fill-color: #FFFFFF;\n",
              "      --disabled-bg-color: #3B4455;\n",
              "      --disabled-fill-color: #666;\n",
              "  }\n",
              "\n",
              "  .colab-df-quickchart {\n",
              "    background-color: var(--bg-color);\n",
              "    border: none;\n",
              "    border-radius: 50%;\n",
              "    cursor: pointer;\n",
              "    display: none;\n",
              "    fill: var(--fill-color);\n",
              "    height: 32px;\n",
              "    padding: 0;\n",
              "    width: 32px;\n",
              "  }\n",
              "\n",
              "  .colab-df-quickchart:hover {\n",
              "    background-color: var(--hover-bg-color);\n",
              "    box-shadow: 0 1px 2px rgba(60, 64, 67, 0.3), 0 1px 3px 1px rgba(60, 64, 67, 0.15);\n",
              "    fill: var(--button-hover-fill-color);\n",
              "  }\n",
              "\n",
              "  .colab-df-quickchart-complete:disabled,\n",
              "  .colab-df-quickchart-complete:disabled:hover {\n",
              "    background-color: var(--disabled-bg-color);\n",
              "    fill: var(--disabled-fill-color);\n",
              "    box-shadow: none;\n",
              "  }\n",
              "\n",
              "  .colab-df-spinner {\n",
              "    border: 2px solid var(--fill-color);\n",
              "    border-color: transparent;\n",
              "    border-bottom-color: var(--fill-color);\n",
              "    animation:\n",
              "      spin 1s steps(1) infinite;\n",
              "  }\n",
              "\n",
              "  @keyframes spin {\n",
              "    0% {\n",
              "      border-color: transparent;\n",
              "      border-bottom-color: var(--fill-color);\n",
              "      border-left-color: var(--fill-color);\n",
              "    }\n",
              "    20% {\n",
              "      border-color: transparent;\n",
              "      border-left-color: var(--fill-color);\n",
              "      border-top-color: var(--fill-color);\n",
              "    }\n",
              "    30% {\n",
              "      border-color: transparent;\n",
              "      border-left-color: var(--fill-color);\n",
              "      border-top-color: var(--fill-color);\n",
              "      border-right-color: var(--fill-color);\n",
              "    }\n",
              "    40% {\n",
              "      border-color: transparent;\n",
              "      border-right-color: var(--fill-color);\n",
              "      border-top-color: var(--fill-color);\n",
              "    }\n",
              "    60% {\n",
              "      border-color: transparent;\n",
              "      border-right-color: var(--fill-color);\n",
              "    }\n",
              "    80% {\n",
              "      border-color: transparent;\n",
              "      border-right-color: var(--fill-color);\n",
              "      border-bottom-color: var(--fill-color);\n",
              "    }\n",
              "    90% {\n",
              "      border-color: transparent;\n",
              "      border-bottom-color: var(--fill-color);\n",
              "    }\n",
              "  }\n",
              "</style>\n",
              "\n",
              "  <script>\n",
              "    async function quickchart(key) {\n",
              "      const quickchartButtonEl =\n",
              "        document.querySelector('#' + key + ' button');\n",
              "      quickchartButtonEl.disabled = true;  // To prevent multiple clicks.\n",
              "      quickchartButtonEl.classList.add('colab-df-spinner');\n",
              "      try {\n",
              "        const charts = await google.colab.kernel.invokeFunction(\n",
              "            'suggestCharts', [key], {});\n",
              "      } catch (error) {\n",
              "        console.error('Error during call to suggestCharts:', error);\n",
              "      }\n",
              "      quickchartButtonEl.classList.remove('colab-df-spinner');\n",
              "      quickchartButtonEl.classList.add('colab-df-quickchart-complete');\n",
              "    }\n",
              "    (() => {\n",
              "      let quickchartButtonEl =\n",
              "        document.querySelector('#df-f63e1f2f-8189-4316-9e73-c6c5ea339281 button');\n",
              "      quickchartButtonEl.style.display =\n",
              "        google.colab.kernel.accessAllowed ? 'block' : 'none';\n",
              "    })();\n",
              "  </script>\n",
              "</div>\n",
              "    </div>\n",
              "  </div>\n"
            ]
          },
          "metadata": {},
          "execution_count": 5
        },
        {
          "output_type": "stream",
          "name": "stdout",
          "text": [
            "Warning: Total number of columns (33) exceeds max_columns (20) limiting to first (20) columns.\n",
            "Warning: Total number of columns (33) exceeds max_columns (20) limiting to first (20) columns.\n"
          ]
        }
      ]
    },
    {
      "cell_type": "code",
      "source": [],
      "metadata": {
        "id": "srdopx80nfN9"
      },
      "execution_count": null,
      "outputs": []
    }
  ]
}